{
  "nbformat": 4,
  "nbformat_minor": 0,
  "metadata": {
    "kernelspec": {
      "name": "python3",
      "display_name": "Python 3"
    },
    "language_info": {
      "codemirror_mode": {
        "name": "ipython",
        "version": 3
      },
      "file_extension": ".py",
      "mimetype": "text/x-python",
      "name": "python",
      "nbconvert_exporter": "python",
      "pygments_lexer": "ipython3",
      "version": "3.7.3"
    },
    "colab": {
      "name": "Copie de Find Similar Documents.ipynb",
      "version": "0.3.2",
      "provenance": [],
      "collapsed_sections": [],
      "toc_visible": true,
      "include_colab_link": true
    },
    "accelerator": "GPU"
  },
  "cells": [
    {
      "cell_type": "markdown",
      "metadata": {
        "id": "view-in-github",
        "colab_type": "text"
      },
      "source": [
        "<a href=\"https://colab.research.google.com/github/mamsdiallo/SimilarDocuments/blob/master/Find_Similar_Documents.ipynb\" target=\"_parent\"><img src=\"https://colab.research.google.com/assets/colab-badge.svg\" alt=\"Open In Colab\"/></a>"
      ]
    },
    {
      "cell_type": "markdown",
      "metadata": {
        "id": "qAUmSXjPgjrk",
        "colab_type": "text"
      },
      "source": [
        "## Similar documents"
      ]
    },
    {
      "cell_type": "markdown",
      "metadata": {
        "id": "l_P23lklgjrm",
        "colab_type": "text"
      },
      "source": [
        "source:\n",
        "\n",
        "[text similarity](https://towardsdatascience.com/overview-of-text-similarity-metrics-3397c4601f50) valuable\n",
        "\n",
        "[blog](https://blog.exploratory.io/demystifying-text-analytics-finding-similar-documents-with-cosine-similarity-e7b9e5b8e515) valuable\n",
        "\n",
        "[paper](https://arxiv.org/pdf/1806.03240.pdf)\n",
        "\n",
        "[article](https://towardsdatascience.com/tf-idf-for-document-ranking-from-scratch-in-python-on-real-world-dataset-796d339a4089)\n",
        "\n",
        "[python coding](https://stackoverflow.com/questions/8897593/how-to-compute-the-similarity-between-two-text-documents) valuable\n",
        "\n",
        "[Text Similarity Course](https://www.youtube.com/watch?v=GDso6md3DBw) valuable\n",
        "\n",
        "[kmeans and distance metrics](https://arxiv.org/pdf/1405.7471.pdf)\n",
        "\n",
        "[text clustering](https://scikit-learn.org/stable/auto_examples/text/plot_document_clustering.html)"
      ]
    },
    {
      "cell_type": "code",
      "metadata": {
        "id": "25DD3ncNgjrn",
        "colab_type": "code",
        "colab": {}
      },
      "source": [
        "import matplotlib.pyplot as plt"
      ],
      "execution_count": 0,
      "outputs": []
    },
    {
      "cell_type": "code",
      "metadata": {
        "id": "Ft1NLfW3gjrs",
        "colab_type": "code",
        "colab": {}
      },
      "source": [
        "import pandas as pd \n",
        "#datafile = 'text.csv'\n",
        "#datafile = 'cat.csv'\n",
        "#raw_data = pd.read_csv(datafile)\n",
        "#documents = raw_data.text.values"
      ],
      "execution_count": 0,
      "outputs": []
    },
    {
      "cell_type": "markdown",
      "metadata": {
        "id": "VDdkxfUY3EsE",
        "colab_type": "text"
      },
      "source": [
        "## Load data source"
      ]
    },
    {
      "cell_type": "code",
      "metadata": {
        "id": "j94JS4Nd3JPm",
        "colab_type": "code",
        "colab": {}
      },
      "source": [
        "url = 'https://raw.githubusercontent.com/mamsdiallo/SimilarDocuments/master/text.csv'\n",
        "raw_data = pd.read_csv(url)\n",
        "documents = raw_data.text.values"
      ],
      "execution_count": 0,
      "outputs": []
    },
    {
      "cell_type": "code",
      "metadata": {
        "id": "6uFpIVZ-gjrv",
        "colab_type": "code",
        "outputId": "cc3b76ee-ac14-474d-d8c7-fbe4ccb5d7b1",
        "colab": {
          "base_uri": "https://localhost:8080/",
          "height": 68
        }
      },
      "source": [
        "documents[0:2]"
      ],
      "execution_count": 0,
      "outputs": [
        {
          "output_type": "execute_result",
          "data": {
            "text/plain": [
              "array(['Remember the five simple rules to be happy: Free your heart from hatred. Free your mind from worries. Live simply. Give more. Expect less.',\n",
              "       'Disappointments were not meant to destroy you. They were meant to strengthen you and give you fortitude to accomplish your God-given destiny.'],\n",
              "      dtype=object)"
            ]
          },
          "metadata": {
            "tags": []
          },
          "execution_count": 3
        }
      ]
    },
    {
      "cell_type": "code",
      "metadata": {
        "id": "11Lb3YHEgjry",
        "colab_type": "code",
        "colab": {}
      },
      "source": [
        "from textblob import TextBlob\n",
        "\n",
        "def textblob_tokenizer(str_input):\n",
        "    blob = TextBlob(str_input.lower())\n",
        "    tokens = blob.words\n",
        "    words = [token.stem() for token in tokens]\n",
        "    return words"
      ],
      "execution_count": 0,
      "outputs": []
    },
    {
      "cell_type": "code",
      "metadata": {
        "scrolled": true,
        "id": "_OqaZ8iwgjr0",
        "colab_type": "code",
        "outputId": "0fd92b93-e4cb-436e-8b63-84d4ded00309",
        "colab": {
          "base_uri": "https://localhost:8080/",
          "height": 341
        }
      },
      "source": [
        "import nltk\n",
        "nltk.download('punkt')\n",
        "\n",
        "from sklearn.feature_extraction.text import TfidfVectorizer\n",
        "\n",
        "vectors = TfidfVectorizer(tokenizer=textblob_tokenizer,\n",
        "                      stop_words='english',\n",
        "                      use_idf=True)\n",
        "matrix = vectors.fit_transform(documents)\n",
        "idf_df = pd.DataFrame(matrix.toarray(), columns=vectors.get_feature_names())\n",
        "idf_df.head()"
      ],
      "execution_count": 0,
      "outputs": [
        {
          "output_type": "stream",
          "text": [
            "[nltk_data] Downloading package punkt to /root/nltk_data...\n",
            "[nltk_data]   Package punkt is already up-to-date!\n"
          ],
          "name": "stdout"
        },
        {
          "output_type": "stream",
          "text": [
            "/usr/local/lib/python3.6/dist-packages/sklearn/feature_extraction/text.py:300: UserWarning: Your stop_words may be inconsistent with your preprocessing. Tokenizing the stop words generated tokens ['abov', 'afterward', 'alon', 'alreadi', 'alway', 'ani', 'anoth', 'anyon', 'anyth', 'anywher', 'becam', 'becaus', 'becom', 'befor', 'besid', 'cri', 'describ', 'dure', 'els', 'elsewher', 'empti', 'everi', 'everyon', 'everyth', 'everywher', 'fifti', 'formerli', 'forti', 'ha', 'henc', 'hereaft', 'herebi', 'hi', 'howev', 'hundr', 'inde', 'latterli', 'mani', 'meanwhil', 'moreov', 'mostli', 'nobodi', 'noon', 'noth', 'nowher', 'onc', 'onli', 'otherwis', 'ourselv', 'perhap', 'pleas', 'seriou', 'sever', 'sinc', 'sincer', 'sixti', 'someon', 'someth', 'sometim', 'somewher', 'themselv', 'thenc', 'thereaft', 'therebi', 'therefor', 'thi', 'thu', 'togeth', 'twelv', 'twenti', 'veri', 'wa', 'whatev', 'whenc', 'whenev', 'wherea', 'whereaft', 'wherebi', 'wherev', 'whi', 'yourselv'] not in stop_words.\n",
            "  'stop_words.' % sorted(inconsistent))\n"
          ],
          "name": "stderr"
        },
        {
          "output_type": "execute_result",
          "data": {
            "text/html": [
              "<div>\n",
              "<style scoped>\n",
              "    .dataframe tbody tr th:only-of-type {\n",
              "        vertical-align: middle;\n",
              "    }\n",
              "\n",
              "    .dataframe tbody tr th {\n",
              "        vertical-align: top;\n",
              "    }\n",
              "\n",
              "    .dataframe thead th {\n",
              "        text-align: right;\n",
              "    }\n",
              "</style>\n",
              "<table border=\"1\" class=\"dataframe\">\n",
              "  <thead>\n",
              "    <tr style=\"text-align: right;\">\n",
              "      <th></th>\n",
              "      <th>'d</th>\n",
              "      <th>'m</th>\n",
              "      <th>'re</th>\n",
              "      <th>'s</th>\n",
              "      <th>'ve</th>\n",
              "      <th>accept</th>\n",
              "      <th>accomplish</th>\n",
              "      <th>action</th>\n",
              "      <th>ahead</th>\n",
              "      <th>allow</th>\n",
              "      <th>alway</th>\n",
              "      <th>amaz</th>\n",
              "      <th>anger</th>\n",
              "      <th>ani</th>\n",
              "      <th>anoth</th>\n",
              "      <th>answer</th>\n",
              "      <th>anyon</th>\n",
              "      <th>anyth</th>\n",
              "      <th>apart</th>\n",
              "      <th>apolog</th>\n",
              "      <th>appreci</th>\n",
              "      <th>arriv</th>\n",
              "      <th>ask</th>\n",
              "      <th>aw</th>\n",
              "      <th>bad</th>\n",
              "      <th>battl</th>\n",
              "      <th>beauti</th>\n",
              "      <th>becom</th>\n",
              "      <th>begin</th>\n",
              "      <th>believ</th>\n",
              "      <th>best</th>\n",
              "      <th>better</th>\n",
              "      <th>bigger</th>\n",
              "      <th>braver</th>\n",
              "      <th>busi</th>\n",
              "      <th>ca</th>\n",
              "      <th>calm</th>\n",
              "      <th>care</th>\n",
              "      <th>caution</th>\n",
              "      <th>chang</th>\n",
              "      <th>...</th>\n",
              "      <th>sweet</th>\n",
              "      <th>taller</th>\n",
              "      <th>tear</th>\n",
              "      <th>tell</th>\n",
              "      <th>tend</th>\n",
              "      <th>test</th>\n",
              "      <th>thank</th>\n",
              "      <th>thing</th>\n",
              "      <th>think</th>\n",
              "      <th>time</th>\n",
              "      <th>today</th>\n",
              "      <th>togeth</th>\n",
              "      <th>tomorrow</th>\n",
              "      <th>tri</th>\n",
              "      <th>true</th>\n",
              "      <th>trust</th>\n",
              "      <th>understand</th>\n",
              "      <th>unforgett</th>\n",
              "      <th>unforgiv</th>\n",
              "      <th>valuabl</th>\n",
              "      <th>victori</th>\n",
              "      <th>wait</th>\n",
              "      <th>wake</th>\n",
              "      <th>want</th>\n",
              "      <th>watch</th>\n",
              "      <th>way</th>\n",
              "      <th>weak</th>\n",
              "      <th>whatev</th>\n",
              "      <th>win</th>\n",
              "      <th>winner</th>\n",
              "      <th>wiser</th>\n",
              "      <th>wish</th>\n",
              "      <th>wo</th>\n",
              "      <th>word</th>\n",
              "      <th>work</th>\n",
              "      <th>worri</th>\n",
              "      <th>worst</th>\n",
              "      <th>wrong</th>\n",
              "      <th>ye</th>\n",
              "      <th>yesterday</th>\n",
              "    </tr>\n",
              "  </thead>\n",
              "  <tbody>\n",
              "    <tr>\n",
              "      <th>0</th>\n",
              "      <td>0.0</td>\n",
              "      <td>0.0</td>\n",
              "      <td>0.0</td>\n",
              "      <td>0.0</td>\n",
              "      <td>0.0</td>\n",
              "      <td>0.000000</td>\n",
              "      <td>0.000000</td>\n",
              "      <td>0.0</td>\n",
              "      <td>0.0</td>\n",
              "      <td>0.0</td>\n",
              "      <td>0.000000</td>\n",
              "      <td>0.0</td>\n",
              "      <td>0.000000</td>\n",
              "      <td>0.0</td>\n",
              "      <td>0.0</td>\n",
              "      <td>0.0</td>\n",
              "      <td>0.0</td>\n",
              "      <td>0.0</td>\n",
              "      <td>0.0</td>\n",
              "      <td>0.0</td>\n",
              "      <td>0.0</td>\n",
              "      <td>0.0</td>\n",
              "      <td>0.0</td>\n",
              "      <td>0.000000</td>\n",
              "      <td>0.000000</td>\n",
              "      <td>0.0</td>\n",
              "      <td>0.0</td>\n",
              "      <td>0.0</td>\n",
              "      <td>0.0</td>\n",
              "      <td>0.0</td>\n",
              "      <td>0.0</td>\n",
              "      <td>0.0</td>\n",
              "      <td>0.0</td>\n",
              "      <td>0.0</td>\n",
              "      <td>0.0</td>\n",
              "      <td>0.0</td>\n",
              "      <td>0.0</td>\n",
              "      <td>0.0</td>\n",
              "      <td>0.0</td>\n",
              "      <td>0.000000</td>\n",
              "      <td>...</td>\n",
              "      <td>0.000000</td>\n",
              "      <td>0.0</td>\n",
              "      <td>0.0</td>\n",
              "      <td>0.0</td>\n",
              "      <td>0.0</td>\n",
              "      <td>0.0</td>\n",
              "      <td>0.0</td>\n",
              "      <td>0.0</td>\n",
              "      <td>0.0</td>\n",
              "      <td>0.0</td>\n",
              "      <td>0.0</td>\n",
              "      <td>0.0</td>\n",
              "      <td>0.0</td>\n",
              "      <td>0.0</td>\n",
              "      <td>0.0</td>\n",
              "      <td>0.0</td>\n",
              "      <td>0.0</td>\n",
              "      <td>0.0</td>\n",
              "      <td>0.0</td>\n",
              "      <td>0.000000</td>\n",
              "      <td>0.0</td>\n",
              "      <td>0.0</td>\n",
              "      <td>0.0</td>\n",
              "      <td>0.0</td>\n",
              "      <td>0.0</td>\n",
              "      <td>0.0</td>\n",
              "      <td>0.0</td>\n",
              "      <td>0.0</td>\n",
              "      <td>0.0</td>\n",
              "      <td>0.0</td>\n",
              "      <td>0.0</td>\n",
              "      <td>0.0</td>\n",
              "      <td>0.0</td>\n",
              "      <td>0.000000</td>\n",
              "      <td>0.0</td>\n",
              "      <td>0.242394</td>\n",
              "      <td>0.0</td>\n",
              "      <td>0.0</td>\n",
              "      <td>0.0</td>\n",
              "      <td>0.0</td>\n",
              "    </tr>\n",
              "    <tr>\n",
              "      <th>1</th>\n",
              "      <td>0.0</td>\n",
              "      <td>0.0</td>\n",
              "      <td>0.0</td>\n",
              "      <td>0.0</td>\n",
              "      <td>0.0</td>\n",
              "      <td>0.000000</td>\n",
              "      <td>0.301511</td>\n",
              "      <td>0.0</td>\n",
              "      <td>0.0</td>\n",
              "      <td>0.0</td>\n",
              "      <td>0.000000</td>\n",
              "      <td>0.0</td>\n",
              "      <td>0.000000</td>\n",
              "      <td>0.0</td>\n",
              "      <td>0.0</td>\n",
              "      <td>0.0</td>\n",
              "      <td>0.0</td>\n",
              "      <td>0.0</td>\n",
              "      <td>0.0</td>\n",
              "      <td>0.0</td>\n",
              "      <td>0.0</td>\n",
              "      <td>0.0</td>\n",
              "      <td>0.0</td>\n",
              "      <td>0.000000</td>\n",
              "      <td>0.000000</td>\n",
              "      <td>0.0</td>\n",
              "      <td>0.0</td>\n",
              "      <td>0.0</td>\n",
              "      <td>0.0</td>\n",
              "      <td>0.0</td>\n",
              "      <td>0.0</td>\n",
              "      <td>0.0</td>\n",
              "      <td>0.0</td>\n",
              "      <td>0.0</td>\n",
              "      <td>0.0</td>\n",
              "      <td>0.0</td>\n",
              "      <td>0.0</td>\n",
              "      <td>0.0</td>\n",
              "      <td>0.0</td>\n",
              "      <td>0.000000</td>\n",
              "      <td>...</td>\n",
              "      <td>0.000000</td>\n",
              "      <td>0.0</td>\n",
              "      <td>0.0</td>\n",
              "      <td>0.0</td>\n",
              "      <td>0.0</td>\n",
              "      <td>0.0</td>\n",
              "      <td>0.0</td>\n",
              "      <td>0.0</td>\n",
              "      <td>0.0</td>\n",
              "      <td>0.0</td>\n",
              "      <td>0.0</td>\n",
              "      <td>0.0</td>\n",
              "      <td>0.0</td>\n",
              "      <td>0.0</td>\n",
              "      <td>0.0</td>\n",
              "      <td>0.0</td>\n",
              "      <td>0.0</td>\n",
              "      <td>0.0</td>\n",
              "      <td>0.0</td>\n",
              "      <td>0.000000</td>\n",
              "      <td>0.0</td>\n",
              "      <td>0.0</td>\n",
              "      <td>0.0</td>\n",
              "      <td>0.0</td>\n",
              "      <td>0.0</td>\n",
              "      <td>0.0</td>\n",
              "      <td>0.0</td>\n",
              "      <td>0.0</td>\n",
              "      <td>0.0</td>\n",
              "      <td>0.0</td>\n",
              "      <td>0.0</td>\n",
              "      <td>0.0</td>\n",
              "      <td>0.0</td>\n",
              "      <td>0.000000</td>\n",
              "      <td>0.0</td>\n",
              "      <td>0.000000</td>\n",
              "      <td>0.0</td>\n",
              "      <td>0.0</td>\n",
              "      <td>0.0</td>\n",
              "      <td>0.0</td>\n",
              "    </tr>\n",
              "    <tr>\n",
              "      <th>2</th>\n",
              "      <td>0.0</td>\n",
              "      <td>0.0</td>\n",
              "      <td>0.0</td>\n",
              "      <td>0.0</td>\n",
              "      <td>0.0</td>\n",
              "      <td>0.000000</td>\n",
              "      <td>0.000000</td>\n",
              "      <td>0.0</td>\n",
              "      <td>0.0</td>\n",
              "      <td>0.0</td>\n",
              "      <td>0.316873</td>\n",
              "      <td>0.0</td>\n",
              "      <td>0.000000</td>\n",
              "      <td>0.0</td>\n",
              "      <td>0.0</td>\n",
              "      <td>0.0</td>\n",
              "      <td>0.0</td>\n",
              "      <td>0.0</td>\n",
              "      <td>0.0</td>\n",
              "      <td>0.0</td>\n",
              "      <td>0.0</td>\n",
              "      <td>0.0</td>\n",
              "      <td>0.0</td>\n",
              "      <td>0.000000</td>\n",
              "      <td>0.000000</td>\n",
              "      <td>0.0</td>\n",
              "      <td>0.0</td>\n",
              "      <td>0.0</td>\n",
              "      <td>0.0</td>\n",
              "      <td>0.0</td>\n",
              "      <td>0.0</td>\n",
              "      <td>0.0</td>\n",
              "      <td>0.0</td>\n",
              "      <td>0.0</td>\n",
              "      <td>0.0</td>\n",
              "      <td>0.0</td>\n",
              "      <td>0.0</td>\n",
              "      <td>0.0</td>\n",
              "      <td>0.0</td>\n",
              "      <td>0.000000</td>\n",
              "      <td>...</td>\n",
              "      <td>0.000000</td>\n",
              "      <td>0.0</td>\n",
              "      <td>0.0</td>\n",
              "      <td>0.0</td>\n",
              "      <td>0.0</td>\n",
              "      <td>0.0</td>\n",
              "      <td>0.0</td>\n",
              "      <td>0.0</td>\n",
              "      <td>0.0</td>\n",
              "      <td>0.0</td>\n",
              "      <td>0.0</td>\n",
              "      <td>0.0</td>\n",
              "      <td>0.0</td>\n",
              "      <td>0.0</td>\n",
              "      <td>0.0</td>\n",
              "      <td>0.0</td>\n",
              "      <td>0.0</td>\n",
              "      <td>0.0</td>\n",
              "      <td>0.0</td>\n",
              "      <td>0.399796</td>\n",
              "      <td>0.0</td>\n",
              "      <td>0.0</td>\n",
              "      <td>0.0</td>\n",
              "      <td>0.0</td>\n",
              "      <td>0.0</td>\n",
              "      <td>0.0</td>\n",
              "      <td>0.0</td>\n",
              "      <td>0.0</td>\n",
              "      <td>0.0</td>\n",
              "      <td>0.0</td>\n",
              "      <td>0.0</td>\n",
              "      <td>0.0</td>\n",
              "      <td>0.0</td>\n",
              "      <td>0.316873</td>\n",
              "      <td>0.0</td>\n",
              "      <td>0.000000</td>\n",
              "      <td>0.0</td>\n",
              "      <td>0.0</td>\n",
              "      <td>0.0</td>\n",
              "      <td>0.0</td>\n",
              "    </tr>\n",
              "    <tr>\n",
              "      <th>3</th>\n",
              "      <td>0.0</td>\n",
              "      <td>0.0</td>\n",
              "      <td>0.0</td>\n",
              "      <td>0.0</td>\n",
              "      <td>0.0</td>\n",
              "      <td>0.000000</td>\n",
              "      <td>0.000000</td>\n",
              "      <td>0.0</td>\n",
              "      <td>0.0</td>\n",
              "      <td>0.0</td>\n",
              "      <td>0.000000</td>\n",
              "      <td>0.0</td>\n",
              "      <td>0.277486</td>\n",
              "      <td>0.0</td>\n",
              "      <td>0.0</td>\n",
              "      <td>0.0</td>\n",
              "      <td>0.0</td>\n",
              "      <td>0.0</td>\n",
              "      <td>0.0</td>\n",
              "      <td>0.0</td>\n",
              "      <td>0.0</td>\n",
              "      <td>0.0</td>\n",
              "      <td>0.0</td>\n",
              "      <td>0.277486</td>\n",
              "      <td>0.277486</td>\n",
              "      <td>0.0</td>\n",
              "      <td>0.0</td>\n",
              "      <td>0.0</td>\n",
              "      <td>0.0</td>\n",
              "      <td>0.0</td>\n",
              "      <td>0.0</td>\n",
              "      <td>0.0</td>\n",
              "      <td>0.0</td>\n",
              "      <td>0.0</td>\n",
              "      <td>0.0</td>\n",
              "      <td>0.0</td>\n",
              "      <td>0.0</td>\n",
              "      <td>0.0</td>\n",
              "      <td>0.0</td>\n",
              "      <td>0.000000</td>\n",
              "      <td>...</td>\n",
              "      <td>0.277486</td>\n",
              "      <td>0.0</td>\n",
              "      <td>0.0</td>\n",
              "      <td>0.0</td>\n",
              "      <td>0.0</td>\n",
              "      <td>0.0</td>\n",
              "      <td>0.0</td>\n",
              "      <td>0.0</td>\n",
              "      <td>0.0</td>\n",
              "      <td>0.0</td>\n",
              "      <td>0.0</td>\n",
              "      <td>0.0</td>\n",
              "      <td>0.0</td>\n",
              "      <td>0.0</td>\n",
              "      <td>0.0</td>\n",
              "      <td>0.0</td>\n",
              "      <td>0.0</td>\n",
              "      <td>0.0</td>\n",
              "      <td>0.0</td>\n",
              "      <td>0.000000</td>\n",
              "      <td>0.0</td>\n",
              "      <td>0.0</td>\n",
              "      <td>0.0</td>\n",
              "      <td>0.0</td>\n",
              "      <td>0.0</td>\n",
              "      <td>0.0</td>\n",
              "      <td>0.0</td>\n",
              "      <td>0.0</td>\n",
              "      <td>0.0</td>\n",
              "      <td>0.0</td>\n",
              "      <td>0.0</td>\n",
              "      <td>0.0</td>\n",
              "      <td>0.0</td>\n",
              "      <td>0.000000</td>\n",
              "      <td>0.0</td>\n",
              "      <td>0.000000</td>\n",
              "      <td>0.0</td>\n",
              "      <td>0.0</td>\n",
              "      <td>0.0</td>\n",
              "      <td>0.0</td>\n",
              "    </tr>\n",
              "    <tr>\n",
              "      <th>4</th>\n",
              "      <td>0.0</td>\n",
              "      <td>0.0</td>\n",
              "      <td>0.0</td>\n",
              "      <td>0.0</td>\n",
              "      <td>0.0</td>\n",
              "      <td>0.605952</td>\n",
              "      <td>0.000000</td>\n",
              "      <td>0.0</td>\n",
              "      <td>0.0</td>\n",
              "      <td>0.0</td>\n",
              "      <td>0.000000</td>\n",
              "      <td>0.0</td>\n",
              "      <td>0.000000</td>\n",
              "      <td>0.0</td>\n",
              "      <td>0.0</td>\n",
              "      <td>0.0</td>\n",
              "      <td>0.0</td>\n",
              "      <td>0.0</td>\n",
              "      <td>0.0</td>\n",
              "      <td>0.0</td>\n",
              "      <td>0.0</td>\n",
              "      <td>0.0</td>\n",
              "      <td>0.0</td>\n",
              "      <td>0.000000</td>\n",
              "      <td>0.000000</td>\n",
              "      <td>0.0</td>\n",
              "      <td>0.0</td>\n",
              "      <td>0.0</td>\n",
              "      <td>0.0</td>\n",
              "      <td>0.0</td>\n",
              "      <td>0.0</td>\n",
              "      <td>0.0</td>\n",
              "      <td>0.0</td>\n",
              "      <td>0.0</td>\n",
              "      <td>0.0</td>\n",
              "      <td>0.0</td>\n",
              "      <td>0.0</td>\n",
              "      <td>0.0</td>\n",
              "      <td>0.0</td>\n",
              "      <td>0.562504</td>\n",
              "      <td>...</td>\n",
              "      <td>0.000000</td>\n",
              "      <td>0.0</td>\n",
              "      <td>0.0</td>\n",
              "      <td>0.0</td>\n",
              "      <td>0.0</td>\n",
              "      <td>0.0</td>\n",
              "      <td>0.0</td>\n",
              "      <td>0.0</td>\n",
              "      <td>0.0</td>\n",
              "      <td>0.0</td>\n",
              "      <td>0.0</td>\n",
              "      <td>0.0</td>\n",
              "      <td>0.0</td>\n",
              "      <td>0.0</td>\n",
              "      <td>0.0</td>\n",
              "      <td>0.0</td>\n",
              "      <td>0.0</td>\n",
              "      <td>0.0</td>\n",
              "      <td>0.0</td>\n",
              "      <td>0.000000</td>\n",
              "      <td>0.0</td>\n",
              "      <td>0.0</td>\n",
              "      <td>0.0</td>\n",
              "      <td>0.0</td>\n",
              "      <td>0.0</td>\n",
              "      <td>0.0</td>\n",
              "      <td>0.0</td>\n",
              "      <td>0.0</td>\n",
              "      <td>0.0</td>\n",
              "      <td>0.0</td>\n",
              "      <td>0.0</td>\n",
              "      <td>0.0</td>\n",
              "      <td>0.0</td>\n",
              "      <td>0.000000</td>\n",
              "      <td>0.0</td>\n",
              "      <td>0.000000</td>\n",
              "      <td>0.0</td>\n",
              "      <td>0.0</td>\n",
              "      <td>0.0</td>\n",
              "      <td>0.0</td>\n",
              "    </tr>\n",
              "  </tbody>\n",
              "</table>\n",
              "<p>5 rows × 255 columns</p>\n",
              "</div>"
            ],
            "text/plain": [
              "    'd   'm  're   's  've  ...     worri  worst  wrong   ye  yesterday\n",
              "0  0.0  0.0  0.0  0.0  0.0  ...  0.242394    0.0    0.0  0.0        0.0\n",
              "1  0.0  0.0  0.0  0.0  0.0  ...  0.000000    0.0    0.0  0.0        0.0\n",
              "2  0.0  0.0  0.0  0.0  0.0  ...  0.000000    0.0    0.0  0.0        0.0\n",
              "3  0.0  0.0  0.0  0.0  0.0  ...  0.000000    0.0    0.0  0.0        0.0\n",
              "4  0.0  0.0  0.0  0.0  0.0  ...  0.000000    0.0    0.0  0.0        0.0\n",
              "\n",
              "[5 rows x 255 columns]"
            ]
          },
          "metadata": {
            "tags": []
          },
          "execution_count": 5
        }
      ]
    },
    {
      "cell_type": "markdown",
      "metadata": {
        "id": "GgZNiX--gjr2",
        "colab_type": "text"
      },
      "source": [
        "\"\"\"\n",
        "The warning is trying to tell you that if your text contains \"always\" it will be normalised to \"alway\" before matching against your stop list which includes \"always\" but not \"alway\". So it won't be removed from your bag of words.\n",
        "\n",
        "The solution is to make sure that you preprocess your stop list to make sure that it is normalised like your tokens will be, and pass the list of normalised words as stop_words to the vectoriser.\n",
        "\"\"\""
      ]
    },
    {
      "cell_type": "code",
      "metadata": {
        "id": "q18IxJiggjr3",
        "colab_type": "code",
        "colab": {}
      },
      "source": [
        "# no need to normalize, since Vectorizer will return normalized tf-idf\n",
        "pairwise_similarity = matrix * matrix.T\n",
        "sim = pairwise_similarity.toarray()   \n",
        "df = pd.DataFrame(sim)"
      ],
      "execution_count": 0,
      "outputs": []
    },
    {
      "cell_type": "code",
      "metadata": {
        "id": "1vSiuUmwgjr4",
        "colab_type": "code",
        "outputId": "c244a2b6-2758-4d14-a5ac-211715d6a139",
        "colab": {
          "base_uri": "https://localhost:8080/",
          "height": 244
        }
      },
      "source": [
        "df.head()"
      ],
      "execution_count": 0,
      "outputs": [
        {
          "output_type": "execute_result",
          "data": {
            "text/html": [
              "<div>\n",
              "<style scoped>\n",
              "    .dataframe tbody tr th:only-of-type {\n",
              "        vertical-align: middle;\n",
              "    }\n",
              "\n",
              "    .dataframe tbody tr th {\n",
              "        vertical-align: top;\n",
              "    }\n",
              "\n",
              "    .dataframe thead th {\n",
              "        text-align: right;\n",
              "    }\n",
              "</style>\n",
              "<table border=\"1\" class=\"dataframe\">\n",
              "  <thead>\n",
              "    <tr style=\"text-align: right;\">\n",
              "      <th></th>\n",
              "      <th>0</th>\n",
              "      <th>1</th>\n",
              "      <th>2</th>\n",
              "      <th>3</th>\n",
              "      <th>4</th>\n",
              "      <th>5</th>\n",
              "      <th>6</th>\n",
              "      <th>7</th>\n",
              "      <th>8</th>\n",
              "      <th>9</th>\n",
              "      <th>10</th>\n",
              "      <th>11</th>\n",
              "      <th>12</th>\n",
              "      <th>13</th>\n",
              "      <th>14</th>\n",
              "      <th>15</th>\n",
              "      <th>16</th>\n",
              "      <th>17</th>\n",
              "      <th>18</th>\n",
              "      <th>19</th>\n",
              "      <th>20</th>\n",
              "      <th>21</th>\n",
              "      <th>22</th>\n",
              "      <th>23</th>\n",
              "      <th>24</th>\n",
              "      <th>25</th>\n",
              "      <th>26</th>\n",
              "      <th>27</th>\n",
              "      <th>28</th>\n",
              "      <th>29</th>\n",
              "      <th>30</th>\n",
              "      <th>31</th>\n",
              "      <th>32</th>\n",
              "      <th>33</th>\n",
              "      <th>34</th>\n",
              "      <th>35</th>\n",
              "      <th>36</th>\n",
              "      <th>37</th>\n",
              "      <th>38</th>\n",
              "      <th>39</th>\n",
              "      <th>40</th>\n",
              "      <th>41</th>\n",
              "      <th>42</th>\n",
              "      <th>43</th>\n",
              "      <th>44</th>\n",
              "      <th>45</th>\n",
              "      <th>46</th>\n",
              "      <th>47</th>\n",
              "      <th>48</th>\n",
              "      <th>49</th>\n",
              "      <th>50</th>\n",
              "      <th>51</th>\n",
              "      <th>52</th>\n",
              "      <th>53</th>\n",
              "      <th>54</th>\n",
              "      <th>55</th>\n",
              "      <th>56</th>\n",
              "      <th>57</th>\n",
              "      <th>58</th>\n",
              "      <th>59</th>\n",
              "    </tr>\n",
              "  </thead>\n",
              "  <tbody>\n",
              "    <tr>\n",
              "      <th>0</th>\n",
              "      <td>1.000000</td>\n",
              "      <td>0.0</td>\n",
              "      <td>0.0</td>\n",
              "      <td>0.061087</td>\n",
              "      <td>0.0</td>\n",
              "      <td>0.0</td>\n",
              "      <td>0.0</td>\n",
              "      <td>0.068131</td>\n",
              "      <td>0.0</td>\n",
              "      <td>0.0</td>\n",
              "      <td>0.000000</td>\n",
              "      <td>0.059531</td>\n",
              "      <td>0.000000</td>\n",
              "      <td>0.000000</td>\n",
              "      <td>0.0</td>\n",
              "      <td>0.0</td>\n",
              "      <td>0.000000</td>\n",
              "      <td>0.000000</td>\n",
              "      <td>0.0</td>\n",
              "      <td>0.0</td>\n",
              "      <td>0.0</td>\n",
              "      <td>0.000000</td>\n",
              "      <td>0.000000</td>\n",
              "      <td>0.000000</td>\n",
              "      <td>0.0</td>\n",
              "      <td>0.0</td>\n",
              "      <td>0.000000</td>\n",
              "      <td>0.0</td>\n",
              "      <td>0.0</td>\n",
              "      <td>0.00000</td>\n",
              "      <td>0.000000</td>\n",
              "      <td>0.0</td>\n",
              "      <td>0.000000</td>\n",
              "      <td>0.000000</td>\n",
              "      <td>0.0</td>\n",
              "      <td>0.000000</td>\n",
              "      <td>0.0</td>\n",
              "      <td>0.000000</td>\n",
              "      <td>0.0</td>\n",
              "      <td>0.0</td>\n",
              "      <td>0.0</td>\n",
              "      <td>0.000000</td>\n",
              "      <td>0.0</td>\n",
              "      <td>0.000000</td>\n",
              "      <td>0.0</td>\n",
              "      <td>0.083281</td>\n",
              "      <td>0.000000</td>\n",
              "      <td>0.0</td>\n",
              "      <td>0.0</td>\n",
              "      <td>0.0</td>\n",
              "      <td>0.057130</td>\n",
              "      <td>0.0</td>\n",
              "      <td>0.0</td>\n",
              "      <td>0.056609</td>\n",
              "      <td>0.0</td>\n",
              "      <td>0.079345</td>\n",
              "      <td>0.0</td>\n",
              "      <td>0.000000</td>\n",
              "      <td>0.0</td>\n",
              "      <td>0.0</td>\n",
              "    </tr>\n",
              "    <tr>\n",
              "      <th>1</th>\n",
              "      <td>0.000000</td>\n",
              "      <td>1.0</td>\n",
              "      <td>0.0</td>\n",
              "      <td>0.000000</td>\n",
              "      <td>0.0</td>\n",
              "      <td>0.0</td>\n",
              "      <td>0.0</td>\n",
              "      <td>0.000000</td>\n",
              "      <td>0.0</td>\n",
              "      <td>0.0</td>\n",
              "      <td>0.000000</td>\n",
              "      <td>0.000000</td>\n",
              "      <td>0.000000</td>\n",
              "      <td>0.000000</td>\n",
              "      <td>0.0</td>\n",
              "      <td>0.0</td>\n",
              "      <td>0.000000</td>\n",
              "      <td>0.000000</td>\n",
              "      <td>0.0</td>\n",
              "      <td>0.0</td>\n",
              "      <td>0.0</td>\n",
              "      <td>0.000000</td>\n",
              "      <td>0.000000</td>\n",
              "      <td>0.000000</td>\n",
              "      <td>0.0</td>\n",
              "      <td>0.0</td>\n",
              "      <td>0.000000</td>\n",
              "      <td>0.0</td>\n",
              "      <td>0.0</td>\n",
              "      <td>0.00000</td>\n",
              "      <td>0.000000</td>\n",
              "      <td>0.0</td>\n",
              "      <td>0.000000</td>\n",
              "      <td>0.000000</td>\n",
              "      <td>0.0</td>\n",
              "      <td>0.000000</td>\n",
              "      <td>0.0</td>\n",
              "      <td>0.000000</td>\n",
              "      <td>0.0</td>\n",
              "      <td>0.0</td>\n",
              "      <td>0.0</td>\n",
              "      <td>0.000000</td>\n",
              "      <td>0.0</td>\n",
              "      <td>0.000000</td>\n",
              "      <td>0.0</td>\n",
              "      <td>0.000000</td>\n",
              "      <td>0.000000</td>\n",
              "      <td>0.0</td>\n",
              "      <td>0.0</td>\n",
              "      <td>0.0</td>\n",
              "      <td>0.000000</td>\n",
              "      <td>0.0</td>\n",
              "      <td>0.0</td>\n",
              "      <td>0.000000</td>\n",
              "      <td>0.0</td>\n",
              "      <td>0.000000</td>\n",
              "      <td>0.0</td>\n",
              "      <td>0.000000</td>\n",
              "      <td>0.0</td>\n",
              "      <td>0.0</td>\n",
              "    </tr>\n",
              "    <tr>\n",
              "      <th>2</th>\n",
              "      <td>0.000000</td>\n",
              "      <td>0.0</td>\n",
              "      <td>1.0</td>\n",
              "      <td>0.000000</td>\n",
              "      <td>0.0</td>\n",
              "      <td>0.0</td>\n",
              "      <td>0.0</td>\n",
              "      <td>0.000000</td>\n",
              "      <td>0.0</td>\n",
              "      <td>0.0</td>\n",
              "      <td>0.126107</td>\n",
              "      <td>0.000000</td>\n",
              "      <td>0.000000</td>\n",
              "      <td>0.184536</td>\n",
              "      <td>0.0</td>\n",
              "      <td>0.0</td>\n",
              "      <td>0.000000</td>\n",
              "      <td>0.000000</td>\n",
              "      <td>0.0</td>\n",
              "      <td>0.0</td>\n",
              "      <td>0.0</td>\n",
              "      <td>0.095900</td>\n",
              "      <td>0.000000</td>\n",
              "      <td>0.151745</td>\n",
              "      <td>0.0</td>\n",
              "      <td>0.0</td>\n",
              "      <td>0.000000</td>\n",
              "      <td>0.0</td>\n",
              "      <td>0.0</td>\n",
              "      <td>0.00000</td>\n",
              "      <td>0.153878</td>\n",
              "      <td>0.0</td>\n",
              "      <td>0.000000</td>\n",
              "      <td>0.000000</td>\n",
              "      <td>0.0</td>\n",
              "      <td>0.000000</td>\n",
              "      <td>0.0</td>\n",
              "      <td>0.000000</td>\n",
              "      <td>0.0</td>\n",
              "      <td>0.0</td>\n",
              "      <td>0.0</td>\n",
              "      <td>0.000000</td>\n",
              "      <td>0.0</td>\n",
              "      <td>0.136118</td>\n",
              "      <td>0.0</td>\n",
              "      <td>0.000000</td>\n",
              "      <td>0.000000</td>\n",
              "      <td>0.0</td>\n",
              "      <td>0.0</td>\n",
              "      <td>0.0</td>\n",
              "      <td>0.000000</td>\n",
              "      <td>0.0</td>\n",
              "      <td>0.0</td>\n",
              "      <td>0.000000</td>\n",
              "      <td>0.0</td>\n",
              "      <td>0.000000</td>\n",
              "      <td>0.0</td>\n",
              "      <td>0.000000</td>\n",
              "      <td>0.0</td>\n",
              "      <td>0.0</td>\n",
              "    </tr>\n",
              "    <tr>\n",
              "      <th>3</th>\n",
              "      <td>0.061087</td>\n",
              "      <td>0.0</td>\n",
              "      <td>0.0</td>\n",
              "      <td>1.000000</td>\n",
              "      <td>0.0</td>\n",
              "      <td>0.0</td>\n",
              "      <td>0.0</td>\n",
              "      <td>0.000000</td>\n",
              "      <td>0.0</td>\n",
              "      <td>0.0</td>\n",
              "      <td>0.000000</td>\n",
              "      <td>0.000000</td>\n",
              "      <td>0.000000</td>\n",
              "      <td>0.104647</td>\n",
              "      <td>0.0</td>\n",
              "      <td>0.0</td>\n",
              "      <td>0.027593</td>\n",
              "      <td>0.000000</td>\n",
              "      <td>0.0</td>\n",
              "      <td>0.0</td>\n",
              "      <td>0.0</td>\n",
              "      <td>0.054383</td>\n",
              "      <td>0.095454</td>\n",
              "      <td>0.000000</td>\n",
              "      <td>0.0</td>\n",
              "      <td>0.0</td>\n",
              "      <td>0.033258</td>\n",
              "      <td>0.0</td>\n",
              "      <td>0.0</td>\n",
              "      <td>0.04392</td>\n",
              "      <td>0.000000</td>\n",
              "      <td>0.0</td>\n",
              "      <td>0.041452</td>\n",
              "      <td>0.040743</td>\n",
              "      <td>0.0</td>\n",
              "      <td>0.000000</td>\n",
              "      <td>0.0</td>\n",
              "      <td>0.066408</td>\n",
              "      <td>0.0</td>\n",
              "      <td>0.0</td>\n",
              "      <td>0.0</td>\n",
              "      <td>0.043787</td>\n",
              "      <td>0.0</td>\n",
              "      <td>0.000000</td>\n",
              "      <td>0.0</td>\n",
              "      <td>0.043294</td>\n",
              "      <td>0.059285</td>\n",
              "      <td>0.0</td>\n",
              "      <td>0.0</td>\n",
              "      <td>0.0</td>\n",
              "      <td>0.059399</td>\n",
              "      <td>0.0</td>\n",
              "      <td>0.0</td>\n",
              "      <td>0.131362</td>\n",
              "      <td>0.0</td>\n",
              "      <td>0.151289</td>\n",
              "      <td>0.0</td>\n",
              "      <td>0.000000</td>\n",
              "      <td>0.0</td>\n",
              "      <td>0.0</td>\n",
              "    </tr>\n",
              "    <tr>\n",
              "      <th>4</th>\n",
              "      <td>0.000000</td>\n",
              "      <td>0.0</td>\n",
              "      <td>0.0</td>\n",
              "      <td>0.000000</td>\n",
              "      <td>1.0</td>\n",
              "      <td>0.0</td>\n",
              "      <td>0.0</td>\n",
              "      <td>0.000000</td>\n",
              "      <td>0.0</td>\n",
              "      <td>0.0</td>\n",
              "      <td>0.000000</td>\n",
              "      <td>0.000000</td>\n",
              "      <td>0.179925</td>\n",
              "      <td>0.000000</td>\n",
              "      <td>0.0</td>\n",
              "      <td>0.0</td>\n",
              "      <td>0.000000</td>\n",
              "      <td>0.266553</td>\n",
              "      <td>0.0</td>\n",
              "      <td>0.0</td>\n",
              "      <td>0.0</td>\n",
              "      <td>0.000000</td>\n",
              "      <td>0.000000</td>\n",
              "      <td>0.143271</td>\n",
              "      <td>0.0</td>\n",
              "      <td>0.0</td>\n",
              "      <td>0.000000</td>\n",
              "      <td>0.0</td>\n",
              "      <td>0.0</td>\n",
              "      <td>0.00000</td>\n",
              "      <td>0.000000</td>\n",
              "      <td>0.0</td>\n",
              "      <td>0.000000</td>\n",
              "      <td>0.000000</td>\n",
              "      <td>0.0</td>\n",
              "      <td>0.177746</td>\n",
              "      <td>0.0</td>\n",
              "      <td>0.000000</td>\n",
              "      <td>0.0</td>\n",
              "      <td>0.0</td>\n",
              "      <td>0.0</td>\n",
              "      <td>0.000000</td>\n",
              "      <td>0.0</td>\n",
              "      <td>0.000000</td>\n",
              "      <td>0.0</td>\n",
              "      <td>0.000000</td>\n",
              "      <td>0.000000</td>\n",
              "      <td>0.0</td>\n",
              "      <td>0.0</td>\n",
              "      <td>0.0</td>\n",
              "      <td>0.000000</td>\n",
              "      <td>0.0</td>\n",
              "      <td>0.0</td>\n",
              "      <td>0.000000</td>\n",
              "      <td>0.0</td>\n",
              "      <td>0.000000</td>\n",
              "      <td>0.0</td>\n",
              "      <td>0.187147</td>\n",
              "      <td>0.0</td>\n",
              "      <td>0.0</td>\n",
              "    </tr>\n",
              "  </tbody>\n",
              "</table>\n",
              "</div>"
            ],
            "text/plain": [
              "         0    1    2         3    4   ...        55   56        57   58   59\n",
              "0  1.000000  0.0  0.0  0.061087  0.0  ...  0.079345  0.0  0.000000  0.0  0.0\n",
              "1  0.000000  1.0  0.0  0.000000  0.0  ...  0.000000  0.0  0.000000  0.0  0.0\n",
              "2  0.000000  0.0  1.0  0.000000  0.0  ...  0.000000  0.0  0.000000  0.0  0.0\n",
              "3  0.061087  0.0  0.0  1.000000  0.0  ...  0.151289  0.0  0.000000  0.0  0.0\n",
              "4  0.000000  0.0  0.0  0.000000  1.0  ...  0.000000  0.0  0.187147  0.0  0.0\n",
              "\n",
              "[5 rows x 60 columns]"
            ]
          },
          "metadata": {
            "tags": []
          },
          "execution_count": 7
        }
      ]
    },
    {
      "cell_type": "code",
      "metadata": {
        "scrolled": false,
        "id": "G85pTlnfgjr5",
        "colab_type": "code",
        "outputId": "0f07dc11-aefd-4e2d-a8b4-3f8855ad936b",
        "colab": {
          "base_uri": "https://localhost:8080/",
          "height": 558
        }
      },
      "source": [
        "import seaborn as sns\n",
        "\n",
        "plt.figure(figsize=(12, 9))\n",
        "\n",
        "sns.heatmap(df,cmap='coolwarm',linecolor='black',linewidth=1)"
      ],
      "execution_count": 0,
      "outputs": [
        {
          "output_type": "execute_result",
          "data": {
            "text/plain": [
              "<matplotlib.axes._subplots.AxesSubplot at 0x7f09d4cb07f0>"
            ]
          },
          "metadata": {
            "tags": []
          },
          "execution_count": 8
        },
        {
          "output_type": "display_data",
          "data": {
            "image/png": "[encoded data removed]",
            "text/plain": [
              "<Figure size 864x648 with 2 Axes>"
            ]
          },
          "metadata": {
            "tags": []
          }
        }
      ]
    },
    {
      "cell_type": "code",
      "metadata": {
        "id": "A4pIbQ8xgjr7",
        "colab_type": "code",
        "outputId": "e36c6a0f-a28e-40d2-c3b3-9c8359277d13",
        "colab": {
          "base_uri": "https://localhost:8080/",
          "height": 80
        }
      },
      "source": [
        "df.iloc[30:31,21:24]"
      ],
      "execution_count": 0,
      "outputs": [
        {
          "output_type": "execute_result",
          "data": {
            "text/html": [
              "<div>\n",
              "<style scoped>\n",
              "    .dataframe tbody tr th:only-of-type {\n",
              "        vertical-align: middle;\n",
              "    }\n",
              "\n",
              "    .dataframe tbody tr th {\n",
              "        vertical-align: top;\n",
              "    }\n",
              "\n",
              "    .dataframe thead th {\n",
              "        text-align: right;\n",
              "    }\n",
              "</style>\n",
              "<table border=\"1\" class=\"dataframe\">\n",
              "  <thead>\n",
              "    <tr style=\"text-align: right;\">\n",
              "      <th></th>\n",
              "      <th>21</th>\n",
              "      <th>22</th>\n",
              "      <th>23</th>\n",
              "    </tr>\n",
              "  </thead>\n",
              "  <tbody>\n",
              "    <tr>\n",
              "      <th>30</th>\n",
              "      <td>0.506243</td>\n",
              "      <td>0.0</td>\n",
              "      <td>0.49569</td>\n",
              "    </tr>\n",
              "  </tbody>\n",
              "</table>\n",
              "</div>"
            ],
            "text/plain": [
              "          21   22       23\n",
              "30  0.506243  0.0  0.49569"
            ]
          },
          "metadata": {
            "tags": []
          },
          "execution_count": 9
        }
      ]
    },
    {
      "cell_type": "code",
      "metadata": {
        "id": "zhaXvl17gjr8",
        "colab_type": "code",
        "outputId": "a96f9162-92ae-4c84-d12c-29e0c7be5a4d",
        "colab": {
          "base_uri": "https://localhost:8080/",
          "height": 34
        }
      },
      "source": [
        "documents[30]"
      ],
      "execution_count": 0,
      "outputs": [
        {
          "output_type": "execute_result",
          "data": {
            "text/plain": [
              "'Losers are those whose words are bigger than actions. Winners are those whose actions are bigger than words.'"
            ]
          },
          "metadata": {
            "tags": []
          },
          "execution_count": 10
        }
      ]
    },
    {
      "cell_type": "code",
      "metadata": {
        "id": "ZV9Xocfbgjr-",
        "colab_type": "code",
        "outputId": "34fed679-caa0-4766-a153-226ce9eae9bc",
        "colab": {
          "base_uri": "https://localhost:8080/",
          "height": 34
        }
      },
      "source": [
        "documents[21]"
      ],
      "execution_count": 0,
      "outputs": [
        {
          "output_type": "execute_result",
          "data": {
            "text/plain": [
              "'Let your dreams be bigger than your fears, your actions louder than your words, and your faith stronger than your feelings.'"
            ]
          },
          "metadata": {
            "tags": []
          },
          "execution_count": 11
        }
      ]
    },
    {
      "cell_type": "code",
      "metadata": {
        "scrolled": true,
        "id": "QuBFsSQzgjr_",
        "colab_type": "code",
        "outputId": "09a30ac0-8357-4eb4-d6b9-72bf419868ca",
        "colab": {
          "base_uri": "https://localhost:8080/",
          "height": 1000
        }
      },
      "source": [
        "# row bfor doc 30\n",
        "print(df.iloc[30])"
      ],
      "execution_count": 0,
      "outputs": [
        {
          "output_type": "stream",
          "text": [
            "0     0.000000\n",
            "1     0.000000\n",
            "2     0.153878\n",
            "3     0.000000\n",
            "4     0.000000\n",
            "5     0.000000\n",
            "6     0.000000\n",
            "7     0.000000\n",
            "8     0.000000\n",
            "9     0.000000\n",
            "10    0.000000\n",
            "11    0.000000\n",
            "12    0.000000\n",
            "13    0.000000\n",
            "14    0.000000\n",
            "15    0.000000\n",
            "16    0.000000\n",
            "17    0.000000\n",
            "18    0.000000\n",
            "19    0.000000\n",
            "20    0.000000\n",
            "21    0.506243\n",
            "22    0.000000\n",
            "23    0.495690\n",
            "24    0.000000\n",
            "25    0.000000\n",
            "26    0.000000\n",
            "27    0.000000\n",
            "28    0.000000\n",
            "29    0.000000\n",
            "30    1.000000\n",
            "31    0.000000\n",
            "32    0.000000\n",
            "33    0.000000\n",
            "34    0.000000\n",
            "35    0.000000\n",
            "36    0.000000\n",
            "37    0.000000\n",
            "38    0.000000\n",
            "39    0.000000\n",
            "40    0.000000\n",
            "41    0.000000\n",
            "42    0.000000\n",
            "43    0.000000\n",
            "44    0.000000\n",
            "45    0.000000\n",
            "46    0.000000\n",
            "47    0.000000\n",
            "48    0.000000\n",
            "49    0.000000\n",
            "50    0.000000\n",
            "51    0.000000\n",
            "52    0.000000\n",
            "53    0.000000\n",
            "54    0.000000\n",
            "55    0.000000\n",
            "56    0.000000\n",
            "57    0.000000\n",
            "58    0.000000\n",
            "59    0.000000\n",
            "Name: 30, dtype: float64\n"
          ],
          "name": "stdout"
        }
      ]
    },
    {
      "cell_type": "code",
      "metadata": {
        "scrolled": true,
        "id": "spSshCxogjsA",
        "colab_type": "code",
        "outputId": "1416fac3-06b3-4bed-a914-7972aa27b0c2",
        "colab": {
          "base_uri": "https://localhost:8080/",
          "height": 119
        }
      },
      "source": [
        "df.iloc[0].nlargest(5,keep='all')"
      ],
      "execution_count": 0,
      "outputs": [
        {
          "output_type": "execute_result",
          "data": {
            "text/plain": [
              "0     1.000000\n",
              "45    0.083281\n",
              "55    0.079345\n",
              "7     0.068131\n",
              "3     0.061087\n",
              "Name: 0, dtype: float64"
            ]
          },
          "metadata": {
            "tags": []
          },
          "execution_count": 13
        }
      ]
    },
    {
      "cell_type": "code",
      "metadata": {
        "id": "2euslSblgjsB",
        "colab_type": "code",
        "outputId": "1cb4fd4a-21eb-4071-ea7b-ec71e60e7e69",
        "colab": {
          "base_uri": "https://localhost:8080/",
          "height": 34
        }
      },
      "source": [
        "documents[0]"
      ],
      "execution_count": 0,
      "outputs": [
        {
          "output_type": "execute_result",
          "data": {
            "text/plain": [
              "'Remember the five simple rules to be happy: Free your heart from hatred. Free your mind from worries. Live simply. Give more. Expect less.'"
            ]
          },
          "metadata": {
            "tags": []
          },
          "execution_count": 14
        }
      ]
    },
    {
      "cell_type": "code",
      "metadata": {
        "id": "bu33hhgSgjsC",
        "colab_type": "code",
        "outputId": "a53f4311-9e7f-476c-def7-70f5ecd3b7f0",
        "colab": {
          "base_uri": "https://localhost:8080/",
          "height": 34
        }
      },
      "source": [
        "documents[45]"
      ],
      "execution_count": 0,
      "outputs": [
        {
          "output_type": "execute_result",
          "data": {
            "text/plain": [
              "'Success is not the key to happiness. Happiness is the key to success. If you love what you are doing, you will be successful.'"
            ]
          },
          "metadata": {
            "tags": []
          },
          "execution_count": 15
        }
      ]
    },
    {
      "cell_type": "code",
      "metadata": {
        "scrolled": true,
        "id": "vpt5hlJcgjsD",
        "colab_type": "code",
        "outputId": "86c6b44b-bbe2-4115-f5de-8b060c928833",
        "colab": {
          "base_uri": "https://localhost:8080/",
          "height": 34
        }
      },
      "source": [
        "documents[55]"
      ],
      "execution_count": 0,
      "outputs": [
        {
          "output_type": "execute_result",
          "data": {
            "text/plain": [
              "'My mission: be so busy loving my life that I have no time for hate, regret, worrying, fret, or fear.'"
            ]
          },
          "metadata": {
            "tags": []
          },
          "execution_count": 16
        }
      ]
    },
    {
      "cell_type": "code",
      "metadata": {
        "scrolled": false,
        "id": "1N-gplwzgjsE",
        "colab_type": "code",
        "outputId": "601ad4ea-fe4d-42cf-eccc-dc623b693711",
        "colab": {
          "base_uri": "https://localhost:8080/",
          "height": 34
        }
      },
      "source": [
        "documents[7]"
      ],
      "execution_count": 0,
      "outputs": [
        {
          "output_type": "execute_result",
          "data": {
            "text/plain": [
              "'Risk more than others think is safe. Dream more than others think is practical. Expect more than others think is possible.'"
            ]
          },
          "metadata": {
            "tags": []
          },
          "execution_count": 17
        }
      ]
    },
    {
      "cell_type": "code",
      "metadata": {
        "id": "VADCkUeegjsG",
        "colab_type": "code",
        "colab": {}
      },
      "source": [
        "idx = df.iloc[0].nlargest(3,keep='all')"
      ],
      "execution_count": 0,
      "outputs": []
    },
    {
      "cell_type": "code",
      "metadata": {
        "id": "9c6qq7_DgjsH",
        "colab_type": "code",
        "outputId": "182fd73e-c808-44cc-fc09-4400f174c775",
        "colab": {
          "base_uri": "https://localhost:8080/",
          "height": 34
        }
      },
      "source": [
        "type(idx)"
      ],
      "execution_count": 0,
      "outputs": [
        {
          "output_type": "execute_result",
          "data": {
            "text/plain": [
              "pandas.core.series.Series"
            ]
          },
          "metadata": {
            "tags": []
          },
          "execution_count": 19
        }
      ]
    },
    {
      "cell_type": "code",
      "metadata": {
        "id": "IKSzj4bAgjsI",
        "colab_type": "code",
        "outputId": "a7c49d15-a96a-461a-aa27-a18572f30182",
        "colab": {
          "base_uri": "https://localhost:8080/",
          "height": 34
        }
      },
      "source": [
        "print(idx.index)"
      ],
      "execution_count": 0,
      "outputs": [
        {
          "output_type": "stream",
          "text": [
            "Int64Index([0, 45, 55], dtype='int64')\n"
          ],
          "name": "stdout"
        }
      ]
    },
    {
      "cell_type": "code",
      "metadata": {
        "id": "biGvN-cHgjsJ",
        "colab_type": "code",
        "colab": {}
      },
      "source": [
        "def getClosest(df,n):\n",
        "    idx = df.iloc[n].nlargest(3,keep='all').index\n",
        "    return idx"
      ],
      "execution_count": 0,
      "outputs": []
    },
    {
      "cell_type": "code",
      "metadata": {
        "id": "t6a-uurQgjsK",
        "colab_type": "code",
        "outputId": "435e9897-c32d-4d7c-fe87-b8a1a8595bd7",
        "colab": {
          "base_uri": "https://localhost:8080/",
          "height": 34
        }
      },
      "source": [
        "getClosest(df,3)"
      ],
      "execution_count": 0,
      "outputs": [
        {
          "output_type": "execute_result",
          "data": {
            "text/plain": [
              "Int64Index([3, 55, 53], dtype='int64')"
            ]
          },
          "metadata": {
            "tags": []
          },
          "execution_count": 22
        }
      ]
    },
    {
      "cell_type": "code",
      "metadata": {
        "id": "YCBMMoHwgjsL",
        "colab_type": "code",
        "outputId": "7428c059-68fc-4435-b3c9-0fb6494e33a8",
        "colab": {
          "base_uri": "https://localhost:8080/",
          "height": 34
        }
      },
      "source": [
        "type(getClosest(df,3))"
      ],
      "execution_count": 0,
      "outputs": [
        {
          "output_type": "execute_result",
          "data": {
            "text/plain": [
              "pandas.core.indexes.numeric.Int64Index"
            ]
          },
          "metadata": {
            "tags": []
          },
          "execution_count": 23
        }
      ]
    },
    {
      "cell_type": "markdown",
      "metadata": {
        "id": "npWcReHYgjsM",
        "colab_type": "text"
      },
      "source": [
        "## Measure clustering"
      ]
    },
    {
      "cell_type": "code",
      "metadata": {
        "id": "4u8W8cGigjsM",
        "colab_type": "code",
        "colab": {}
      },
      "source": [
        "from sklearn.neighbors import BallTree\n",
        "import numpy as np\n",
        "from random import sample\n",
        "import pandas as pd\n",
        "\n",
        "\n",
        "def hopkins(D, sampling_size):\n",
        "    \"\"\"Assess the clusterability of a dataset. A score between 0 and 1, a score around 0.5 express no clusterability and a score tending to 0 express a high cluster tendency.\n",
        "    Parameters\n",
        "    ----------\n",
        "    D : numpy array \n",
        "        The input dataset\n",
        "    sampling_size : int\n",
        "        The sampling size which is used to evaluate the number of DataFrame.\n",
        "    Returns\n",
        "    ---------------------\n",
        "    score : float\n",
        "        The hopkins score of the dataset (between 0 and 1)\n",
        "    Examples\n",
        "    --------\n",
        "    >>> from sklearn import datasets\n",
        "    >>> from pyclustertend import hopkins\n",
        "    >>> X = datasets.load_iris().data\n",
        "    >>> hopkins(X,150)\n",
        "    0.16\n",
        "    \"\"\"\n",
        "\n",
        "    if type(D) == np.ndarray:\n",
        "        D = pd.DataFrame(D)\n",
        "        print(\"it is a np.ndarray\")\n",
        "\n",
        "    # Sample n observations from D : P\n",
        "\n",
        "    if sampling_size > D.shape[0]:\n",
        "        raise Exception(\n",
        "            'The number of sample of sample is superieur than the shape of D')\n",
        "\n",
        "    P = D.sample(n=sampling_size)\n",
        "\n",
        "    # Get the distance to their neirest neighbors in D : X\n",
        "\n",
        "    tree = BallTree(D, leaf_size=2)\n",
        "    dist, _ = tree.query(P, k=2)\n",
        "    X = dist[:, 1]\n",
        "\n",
        "    # Randomly simulate n points with the same variation as in D : Q. \n",
        "\n",
        "    max_D = D.max()\n",
        "    min_D = D.min()\n",
        "\n",
        "    matrix = np.column_stack((np.random.uniform(\n",
        "        min_D[0], max_D[0], sampling_size), np.random.uniform(min_D[1], max_D[1], sampling_size)))\n",
        "    if len(max_D) >= 2:\n",
        "        for i in range(2, len(max_D)):\n",
        "            matrix = np.column_stack(\n",
        "                (matrix, np.random.uniform(min_D[i], max_D[i], sampling_size)))\n",
        "    Q = pd.DataFrame(matrix)\n",
        "\n",
        "    # Get the distance to their neirest neighbors in D : Y\n",
        "\n",
        "    tree = BallTree(D, leaf_size=2)\n",
        "    dist, _ = tree.query(Q, k=1)\n",
        "    Y = dist\n",
        "\n",
        "    # return the hopkins score\n",
        "\n",
        "    x = sum(X)\n",
        "    y = sum(Y)\n",
        "\n",
        "    if (x+y == 0):\n",
        "        raise Exception('The denominator of the hopkins statistics is null')\n",
        "\n",
        "    return x/(x+y)[0]"
      ],
      "execution_count": 0,
      "outputs": []
    },
    {
      "cell_type": "code",
      "metadata": {
        "scrolled": false,
        "id": "bfCXYWF4gjsN",
        "colab_type": "code",
        "outputId": "6d73a9ba-90b8-4e97-e83f-fbba06c6ced4",
        "colab": {
          "base_uri": "https://localhost:8080/",
          "height": 34
        }
      },
      "source": [
        "matrix.shape"
      ],
      "execution_count": 0,
      "outputs": [
        {
          "output_type": "execute_result",
          "data": {
            "text/plain": [
              "(60, 255)"
            ]
          },
          "metadata": {
            "tags": []
          },
          "execution_count": 25
        }
      ]
    },
    {
      "cell_type": "code",
      "metadata": {
        "scrolled": true,
        "id": "Rr6v9wEegjsN",
        "colab_type": "code",
        "outputId": "8b1ebcf7-1411-4307-be89-a562f8cf8278",
        "colab": {
          "base_uri": "https://localhost:8080/",
          "height": 34
        }
      },
      "source": [
        "type(matrix.toarray())"
      ],
      "execution_count": 0,
      "outputs": [
        {
          "output_type": "execute_result",
          "data": {
            "text/plain": [
              "numpy.ndarray"
            ]
          },
          "metadata": {
            "tags": []
          },
          "execution_count": 26
        }
      ]
    },
    {
      "cell_type": "code",
      "metadata": {
        "scrolled": true,
        "id": "F-xWmlzCgjsO",
        "colab_type": "code",
        "outputId": "49fe5d6d-2a44-44d5-b207-148cdc6a0221",
        "colab": {
          "base_uri": "https://localhost:8080/",
          "height": 34
        }
      },
      "source": [
        "matrix.shape[0]"
      ],
      "execution_count": 0,
      "outputs": [
        {
          "output_type": "execute_result",
          "data": {
            "text/plain": [
              "60"
            ]
          },
          "metadata": {
            "tags": []
          },
          "execution_count": 27
        }
      ]
    },
    {
      "cell_type": "code",
      "metadata": {
        "scrolled": true,
        "id": "0guuj6ojgjsP",
        "colab_type": "code",
        "outputId": "bd5405fa-46f5-470b-d4a7-c63c0c0aa573",
        "colab": {
          "base_uri": "https://localhost:8080/",
          "height": 51
        }
      },
      "source": [
        "hopkins(matrix.toarray(),matrix.shape[0])"
      ],
      "execution_count": 0,
      "outputs": [
        {
          "output_type": "stream",
          "text": [
            "it is a np.ndarray\n"
          ],
          "name": "stdout"
        },
        {
          "output_type": "execute_result",
          "data": {
            "text/plain": [
              "0.24397358335783745"
            ]
          },
          "metadata": {
            "tags": []
          },
          "execution_count": 28
        }
      ]
    },
    {
      "cell_type": "markdown",
      "metadata": {
        "id": "B2NwKlcngjsQ",
        "colab_type": "text"
      },
      "source": [
        "Since we obtained Hopkins statistic of less then 0.5 which is equal to 0.244 we can say that the structures in the data set are not random and are real structures out of which clusters can be formed."
      ]
    },
    {
      "cell_type": "markdown",
      "metadata": {
        "id": "JISEkdvWgjsQ",
        "colab_type": "text"
      },
      "source": [
        "## Normalizing"
      ]
    },
    {
      "cell_type": "code",
      "metadata": {
        "id": "hQwDed2ZgjsQ",
        "colab_type": "code",
        "colab": {}
      },
      "source": [
        "from sklearn.preprocessing import StandardScaler\n",
        "X_std = StandardScaler().fit_transform(matrix.toarray())"
      ],
      "execution_count": 0,
      "outputs": []
    },
    {
      "cell_type": "markdown",
      "metadata": {
        "id": "DUnVXii2gjsR",
        "colab_type": "text"
      },
      "source": [
        "## Clustering with KMEANS"
      ]
    },
    {
      "cell_type": "code",
      "metadata": {
        "id": "t5tlgsr3gjsR",
        "colab_type": "code",
        "colab": {}
      },
      "source": [
        "# Dimensions to display\n",
        "k = 2"
      ],
      "execution_count": 0,
      "outputs": []
    },
    {
      "cell_type": "code",
      "metadata": {
        "id": "_6m4F5kPgjsS",
        "colab_type": "code",
        "colab": {}
      },
      "source": [
        "# Empirism: number of clusters\n",
        "# 𝑘=nth square root(𝑀) for a data-set with M are dimensions and N data-points"
      ],
      "execution_count": 0,
      "outputs": []
    },
    {
      "cell_type": "code",
      "metadata": {
        "scrolled": false,
        "id": "nv-jehMSgjsS",
        "colab_type": "code",
        "outputId": "ce0dac87-799f-4d7c-d9e4-8e6af7868861",
        "colab": {
          "base_uri": "https://localhost:8080/",
          "height": 68
        }
      },
      "source": [
        "# KMeans clustering a kind of clustering.\n",
        "from sklearn.cluster import KMeans\n",
        "\n",
        "true_k=15\n",
        "km = KMeans(n_clusters=true_k,init='k-means++',random_state=1,n_init=100)\n",
        "# Normally people fit the matrix\n",
        "km.fit(X_std)"
      ],
      "execution_count": 0,
      "outputs": [
        {
          "output_type": "execute_result",
          "data": {
            "text/plain": [
              "KMeans(algorithm='auto', copy_x=True, init='k-means++', max_iter=300,\n",
              "       n_clusters=15, n_init=100, n_jobs=None, precompute_distances='auto',\n",
              "       random_state=1, tol=0.0001, verbose=0)"
            ]
          },
          "metadata": {
            "tags": []
          },
          "execution_count": 32
        }
      ]
    },
    {
      "cell_type": "code",
      "metadata": {
        "id": "otBc2m6kgjsT",
        "colab_type": "code",
        "colab": {}
      },
      "source": [
        "labels = km.labels_"
      ],
      "execution_count": 0,
      "outputs": []
    },
    {
      "cell_type": "markdown",
      "metadata": {
        "id": "p3n8rjBygjsU",
        "colab_type": "text"
      },
      "source": [
        "### Iterate Over Several Values of K"
      ]
    },
    {
      "cell_type": "code",
      "metadata": {
        "id": "HgW9y3lJgjsU",
        "colab_type": "code",
        "colab": {}
      },
      "source": [
        "max_k = len(documents) # too much"
      ],
      "execution_count": 0,
      "outputs": []
    },
    {
      "cell_type": "code",
      "metadata": {
        "id": "fPSNYac_gjsV",
        "colab_type": "code",
        "colab": {}
      },
      "source": [
        "max_k = 30"
      ],
      "execution_count": 0,
      "outputs": []
    },
    {
      "cell_type": "code",
      "metadata": {
        "id": "CBCJSR__gjsV",
        "colab_type": "code",
        "colab": {}
      },
      "source": [
        "number_clusters = range(1, max_k)\n",
        "\n",
        "kmeans = [KMeans(n_clusters=i,init='k-means++',n_init=10,random_state=1) for i in number_clusters]\n",
        "\n",
        "#kmeans\n",
        "\n",
        "score = [kmeans[i].fit(X_std).score(X_std) for i in range(len(kmeans))]\n",
        "#score"
      ],
      "execution_count": 0,
      "outputs": []
    },
    {
      "cell_type": "code",
      "metadata": {
        "scrolled": false,
        "id": "_N01CjmPgjsW",
        "colab_type": "code",
        "outputId": "e31c500b-a496-4718-8d09-897145e22903",
        "colab": {
          "base_uri": "https://localhost:8080/",
          "height": 283
        }
      },
      "source": [
        "plt.plot(number_clusters, score)\n",
        "plt.xlabel('Number of Clusters')\n",
        "plt.ylabel('Score')\n",
        "plt.show()"
      ],
      "execution_count": 0,
      "outputs": [
        {
          "output_type": "display_data",
          "data": {
            "image/png": "[encoded data removed]",
            "text/plain": [
              "<Figure size 432x288 with 1 Axes>"
            ]
          },
          "metadata": {
            "tags": []
          }
        }
      ]
    },
    {
      "cell_type": "markdown",
      "metadata": {
        "id": "EtYJApVlgjsW",
        "colab_type": "text"
      },
      "source": [
        "## Dimension reduction (PCA)"
      ]
    },
    {
      "cell_type": "markdown",
      "metadata": {
        "id": "OtKbGkLfgjsW",
        "colab_type": "text"
      },
      "source": [
        "resource:\n",
        "\n",
        "[PCA](https://jakevdp.github.io/PythonDataScienceHandbook/05.09-principal-component-analysis.html) valuable"
      ]
    },
    {
      "cell_type": "code",
      "metadata": {
        "scrolled": false,
        "id": "6gBnZF9egjsX",
        "colab_type": "code",
        "outputId": "80c3e940-087e-41f2-bfa9-489ec2cb95c2",
        "colab": {
          "base_uri": "https://localhost:8080/",
          "height": 238
        }
      },
      "source": [
        "print(X_std)"
      ],
      "execution_count": 0,
      "outputs": [
        {
          "output_type": "stream",
          "text": [
            "[[-0.13018891 -0.13018891 -0.22847205 ... -0.13018891 -0.13018891\n",
            "  -0.13018891]\n",
            " [-0.13018891 -0.13018891 -0.22847205 ... -0.13018891 -0.13018891\n",
            "  -0.13018891]\n",
            " [-0.13018891 -0.13018891 -0.22847205 ... -0.13018891 -0.13018891\n",
            "  -0.13018891]\n",
            " ...\n",
            " [-0.13018891 -0.13018891 -0.22847205 ... -0.13018891 -0.13018891\n",
            "  -0.13018891]\n",
            " [-0.13018891 -0.13018891 -0.22847205 ... -0.13018891 -0.13018891\n",
            "  -0.13018891]\n",
            " [-0.13018891 -0.13018891 -0.22847205 ... -0.13018891 -0.13018891\n",
            "  -0.13018891]]\n"
          ],
          "name": "stdout"
        }
      ]
    },
    {
      "cell_type": "code",
      "metadata": {
        "id": "eiSit65GgjsX",
        "colab_type": "code",
        "colab": {}
      },
      "source": [
        "#X = matrix.toarray()"
      ],
      "execution_count": 0,
      "outputs": []
    },
    {
      "cell_type": "code",
      "metadata": {
        "id": "sKQjtlrpgjsY",
        "colab_type": "code",
        "outputId": "aeab750d-ca8b-456f-bfc1-8d93d8a94060",
        "colab": {
          "base_uri": "https://localhost:8080/",
          "height": 51
        }
      },
      "source": [
        "from sklearn.decomposition import PCA\n",
        "pca = PCA(n_components=10)\n",
        "pca.fit(X_std)"
      ],
      "execution_count": 0,
      "outputs": [
        {
          "output_type": "execute_result",
          "data": {
            "text/plain": [
              "PCA(copy=True, iterated_power='auto', n_components=10, random_state=None,\n",
              "    svd_solver='auto', tol=0.0, whiten=False)"
            ]
          },
          "metadata": {
            "tags": []
          },
          "execution_count": 40
        }
      ]
    },
    {
      "cell_type": "code",
      "metadata": {
        "scrolled": false,
        "id": "T6Ez8ZHygjsY",
        "colab_type": "code",
        "outputId": "039a4f8a-a4af-432a-f4b3-1b4fa30fd0c5",
        "colab": {
          "base_uri": "https://localhost:8080/",
          "height": 238
        }
      },
      "source": [
        "print(pca.components_)"
      ],
      "execution_count": 0,
      "outputs": [
        {
          "output_type": "stream",
          "text": [
            "[[-1.96072051e-02  5.61971221e-03  1.44574751e-03 ... -1.34262951e-02\n",
            "  -9.74486368e-03 -1.18492871e-02]\n",
            " [-1.45929884e-02  2.76084950e-03 -2.56062621e-02 ... -7.81819651e-03\n",
            "  -3.34488371e-03 -8.40770758e-03]\n",
            " [-1.51203896e-01  1.84727855e-03 -1.76728539e-02 ... -2.69273053e-02\n",
            "   5.08735146e-03  3.66664223e-03]\n",
            " ...\n",
            " [ 9.34082751e-02  1.68237485e-02  2.72643427e-02 ... -4.53646849e-02\n",
            "   2.09612426e-02 -2.24856700e-04]\n",
            " [-1.99549300e-02 -1.65077033e-03  1.80593218e-01 ...  1.00135055e-02\n",
            "   1.31952666e-03  2.28151319e-01]\n",
            " [ 1.92944876e-02 -1.02015370e-03  1.36524543e-01 ... -4.58420707e-02\n",
            "  -1.12234339e-01  1.03879395e-01]]\n"
          ],
          "name": "stdout"
        }
      ]
    },
    {
      "cell_type": "code",
      "metadata": {
        "scrolled": true,
        "id": "zbZ-PfXhgjsZ",
        "colab_type": "code",
        "outputId": "a24bca72-4d6c-45f6-d486-24c10f77508b",
        "colab": {
          "base_uri": "https://localhost:8080/",
          "height": 34
        }
      },
      "source": [
        "print(pca.explained_variance_.shape)"
      ],
      "execution_count": 0,
      "outputs": [
        {
          "output_type": "stream",
          "text": [
            "(10,)\n"
          ],
          "name": "stdout"
        }
      ]
    },
    {
      "cell_type": "code",
      "metadata": {
        "id": "i-k5Cz2bgjsZ",
        "colab_type": "code",
        "outputId": "bf0388d9-7ae1-4cf7-b9f6-3cdcd0388f55",
        "colab": {
          "base_uri": "https://localhost:8080/",
          "height": 34
        }
      },
      "source": [
        "print(pca.components_.shape)"
      ],
      "execution_count": 0,
      "outputs": [
        {
          "output_type": "stream",
          "text": [
            "(10, 255)\n"
          ],
          "name": "stdout"
        }
      ]
    },
    {
      "cell_type": "code",
      "metadata": {
        "scrolled": true,
        "id": "t7DVFTu1gjsa",
        "colab_type": "code",
        "outputId": "9b638503-8fc8-45b3-d5d8-03913254972a",
        "colab": {
          "base_uri": "https://localhost:8080/",
          "height": 34
        }
      },
      "source": [
        "print(pca.mean_.shape)"
      ],
      "execution_count": 0,
      "outputs": [
        {
          "output_type": "stream",
          "text": [
            "(255,)\n"
          ],
          "name": "stdout"
        }
      ]
    },
    {
      "cell_type": "code",
      "metadata": {
        "scrolled": true,
        "id": "JTie5Repgjsa",
        "colab_type": "code",
        "outputId": "ecca305c-6442-4158-eba7-7e2f7f629fb0",
        "colab": {
          "base_uri": "https://localhost:8080/",
          "height": 51
        }
      },
      "source": [
        "X_pca = pca.transform(X_std)\n",
        "print(\"original shape:   \", X_std.shape)\n",
        "print(\"transformed shape:\", X_pca.shape)"
      ],
      "execution_count": 0,
      "outputs": [
        {
          "output_type": "stream",
          "text": [
            "original shape:    (60, 255)\n",
            "transformed shape: (60, 10)\n"
          ],
          "name": "stdout"
        }
      ]
    },
    {
      "cell_type": "markdown",
      "metadata": {
        "id": "me64OtEFgjsa",
        "colab_type": "text"
      },
      "source": [
        "\"\"\"\n",
        "The transformed data has been reduced to a single dimension. To understand the effect of this dimensionality reduction, we can perform the inverse transform of this reduced data and plot it along with the original data:\n",
        "\"\"\""
      ]
    },
    {
      "cell_type": "code",
      "metadata": {
        "scrolled": false,
        "id": "JTCBs--Vgjsb",
        "colab_type": "code",
        "outputId": "0fdb0b13-e80c-484e-f715-364d757ca767",
        "colab": {
          "base_uri": "https://localhost:8080/",
          "height": 269
        }
      },
      "source": [
        "#%matplotlib inline\n",
        "#%matplotlib notebook\n",
        "X_new = pca.inverse_transform(X_pca)\n",
        "plt.scatter(X_pca[:, 0], X_pca[:, 1], alpha=0.2,s=20)\n",
        "plt.scatter(X_new[:, 0], X_new[:, 1], alpha=0.8,s=20)\n",
        "plt.axis('equal')\n",
        "plt.show()"
      ],
      "execution_count": 0,
      "outputs": [
        {
          "output_type": "display_data",
          "data": {
            "image/png": "[encoded data removed]",
            "text/plain": [
              "<Figure size 432x288 with 1 Axes>"
            ]
          },
          "metadata": {
            "tags": []
          }
        }
      ]
    },
    {
      "cell_type": "code",
      "metadata": {
        "scrolled": false,
        "id": "1a9yLZyZgjsb",
        "colab_type": "code",
        "outputId": "d77d4909-8896-4c8a-bb59-50ced92363b5",
        "colab": {
          "base_uri": "https://localhost:8080/",
          "height": 68
        }
      },
      "source": [
        "labels = km.labels_\n",
        "print(labels)"
      ],
      "execution_count": 0,
      "outputs": [
        {
          "output_type": "stream",
          "text": [
            "[10  2  4  6  4  1  4  1  4  4  4  4  9 11  4  4  4  4  4  4  4 11  1 11\n",
            "  4  8  4  4  1 12 11  4  1  1  1  4  4  4 13  0  7  1  4  4  4  4  4 14\n",
            "  5  4  4  4  4  4  4  4  1  3  4  4]\n"
          ],
          "name": "stdout"
        }
      ]
    },
    {
      "cell_type": "code",
      "metadata": {
        "id": "BSggaOOWgjsb",
        "colab_type": "code",
        "outputId": "72addb87-ebd7-4be4-95fe-0c18f25b91b5",
        "colab": {
          "base_uri": "https://localhost:8080/",
          "height": 34
        }
      },
      "source": [
        "#import colormaps as cmaps\n",
        "plt.register_cmap(name='spectral', cmap=plt.cm.Spectral)\n",
        "plt.set_cmap(plt.cm.Spectral)"
      ],
      "execution_count": 0,
      "outputs": [
        {
          "output_type": "display_data",
          "data": {
            "text/plain": [
              "<Figure size 432x288 with 0 Axes>"
            ]
          },
          "metadata": {
            "tags": []
          }
        }
      ]
    },
    {
      "cell_type": "code",
      "metadata": {
        "scrolled": true,
        "id": "0dKEzLOhgjsc",
        "colab_type": "code",
        "outputId": "770567f8-3fec-47b4-c3b6-93bd18157318",
        "colab": {
          "base_uri": "https://localhost:8080/",
          "height": 283
        }
      },
      "source": [
        "plt.scatter(X_pca[:, 0], X_pca[:, 1],\n",
        "            c=labels, edgecolor='none', alpha=0.5,\n",
        "            cmap=plt.cm.get_cmap('spectral', 10))\n",
        "plt.xlabel('component 1')\n",
        "plt.ylabel('component 2')\n",
        "plt.colorbar()\n",
        "plt.show()"
      ],
      "execution_count": 0,
      "outputs": [
        {
          "output_type": "display_data",
          "data": {
            "image/png": "[encoded data removed]",
            "text/plain": [
              "<Figure size 432x288 with 2 Axes>"
            ]
          },
          "metadata": {
            "tags": []
          }
        }
      ]
    },
    {
      "cell_type": "code",
      "metadata": {
        "scrolled": false,
        "id": "oEqhdOWbgjsc",
        "colab_type": "code",
        "outputId": "869ec386-3dd2-42f1-96f7-9fc1cf289d9d",
        "colab": {
          "base_uri": "https://localhost:8080/",
          "height": 153
        }
      },
      "source": [
        "X_pca[:2,:]"
      ],
      "execution_count": 0,
      "outputs": [
        {
          "output_type": "execute_result",
          "data": {
            "text/plain": [
              "array([[ 7.77700658e+00,  2.19952613e+01, -2.72621046e-01,\n",
              "         5.19812931e-01,  1.14568731e+00, -1.42084206e+00,\n",
              "        -1.29637263e-01,  6.84906760e-01,  2.35193720e-01,\n",
              "        -6.08263136e-03],\n",
              "       [-1.23448656e+00, -3.46914902e-01,  1.95283046e+01,\n",
              "         9.37744601e+00,  1.53687219e+00, -1.11001767e+00,\n",
              "        -1.97150931e-01,  1.89010880e+00,  2.68656385e-01,\n",
              "         3.38281292e-01]])"
            ]
          },
          "metadata": {
            "tags": []
          },
          "execution_count": 50
        }
      ]
    },
    {
      "cell_type": "code",
      "metadata": {
        "scrolled": true,
        "id": "YJAXuOhlgjsd",
        "colab_type": "code",
        "outputId": "f55560b4-dc8a-41bc-d383-ce7e9d52c4a1",
        "colab": {
          "base_uri": "https://localhost:8080/",
          "height": 204
        }
      },
      "source": [
        "df3D = pd.DataFrame(X_pca,columns=[\"PC1\",\"PC2\",\"PC3\",\"PC4\",\"PC5\",\"PC6\",\"PC7\",\"PC8\",\"PC9\",\"PC10\"])\n",
        "df3D.head()"
      ],
      "execution_count": 0,
      "outputs": [
        {
          "output_type": "execute_result",
          "data": {
            "text/html": [
              "<div>\n",
              "<style scoped>\n",
              "    .dataframe tbody tr th:only-of-type {\n",
              "        vertical-align: middle;\n",
              "    }\n",
              "\n",
              "    .dataframe tbody tr th {\n",
              "        vertical-align: top;\n",
              "    }\n",
              "\n",
              "    .dataframe thead th {\n",
              "        text-align: right;\n",
              "    }\n",
              "</style>\n",
              "<table border=\"1\" class=\"dataframe\">\n",
              "  <thead>\n",
              "    <tr style=\"text-align: right;\">\n",
              "      <th></th>\n",
              "      <th>PC1</th>\n",
              "      <th>PC2</th>\n",
              "      <th>PC3</th>\n",
              "      <th>PC4</th>\n",
              "      <th>PC5</th>\n",
              "      <th>PC6</th>\n",
              "      <th>PC7</th>\n",
              "      <th>PC8</th>\n",
              "      <th>PC9</th>\n",
              "      <th>PC10</th>\n",
              "    </tr>\n",
              "  </thead>\n",
              "  <tbody>\n",
              "    <tr>\n",
              "      <th>0</th>\n",
              "      <td>7.777007</td>\n",
              "      <td>21.995261</td>\n",
              "      <td>-0.272621</td>\n",
              "      <td>0.519813</td>\n",
              "      <td>1.145687</td>\n",
              "      <td>-1.420842</td>\n",
              "      <td>-0.129637</td>\n",
              "      <td>0.684907</td>\n",
              "      <td>0.235194</td>\n",
              "      <td>-0.006083</td>\n",
              "    </tr>\n",
              "    <tr>\n",
              "      <th>1</th>\n",
              "      <td>-1.234487</td>\n",
              "      <td>-0.346915</td>\n",
              "      <td>19.528305</td>\n",
              "      <td>9.377446</td>\n",
              "      <td>1.536872</td>\n",
              "      <td>-1.110018</td>\n",
              "      <td>-0.197151</td>\n",
              "      <td>1.890109</td>\n",
              "      <td>0.268656</td>\n",
              "      <td>0.338281</td>\n",
              "    </tr>\n",
              "    <tr>\n",
              "      <th>2</th>\n",
              "      <td>-0.738270</td>\n",
              "      <td>-0.194703</td>\n",
              "      <td>0.279827</td>\n",
              "      <td>-0.729550</td>\n",
              "      <td>-0.499630</td>\n",
              "      <td>0.320562</td>\n",
              "      <td>0.705253</td>\n",
              "      <td>-3.466875</td>\n",
              "      <td>-2.178202</td>\n",
              "      <td>1.043223</td>\n",
              "    </tr>\n",
              "    <tr>\n",
              "      <th>3</th>\n",
              "      <td>23.456552</td>\n",
              "      <td>-7.885279</td>\n",
              "      <td>0.324705</td>\n",
              "      <td>0.408682</td>\n",
              "      <td>0.741352</td>\n",
              "      <td>-0.227275</td>\n",
              "      <td>0.968725</td>\n",
              "      <td>-0.034549</td>\n",
              "      <td>-0.594726</td>\n",
              "      <td>-0.671843</td>\n",
              "    </tr>\n",
              "    <tr>\n",
              "      <th>4</th>\n",
              "      <td>-0.592197</td>\n",
              "      <td>-0.170031</td>\n",
              "      <td>-0.012117</td>\n",
              "      <td>-0.416923</td>\n",
              "      <td>1.116584</td>\n",
              "      <td>0.267602</td>\n",
              "      <td>-0.020162</td>\n",
              "      <td>-0.753224</td>\n",
              "      <td>-0.685902</td>\n",
              "      <td>-0.757754</td>\n",
              "    </tr>\n",
              "  </tbody>\n",
              "</table>\n",
              "</div>"
            ],
            "text/plain": [
              "         PC1        PC2        PC3  ...       PC8       PC9      PC10\n",
              "0   7.777007  21.995261  -0.272621  ...  0.684907  0.235194 -0.006083\n",
              "1  -1.234487  -0.346915  19.528305  ...  1.890109  0.268656  0.338281\n",
              "2  -0.738270  -0.194703   0.279827  ... -3.466875 -2.178202  1.043223\n",
              "3  23.456552  -7.885279   0.324705  ... -0.034549 -0.594726 -0.671843\n",
              "4  -0.592197  -0.170031  -0.012117  ... -0.753224 -0.685902 -0.757754\n",
              "\n",
              "[5 rows x 10 columns]"
            ]
          },
          "metadata": {
            "tags": []
          },
          "execution_count": 51
        }
      ]
    },
    {
      "cell_type": "code",
      "metadata": {
        "scrolled": true,
        "id": "tpEiFNtngjsd",
        "colab_type": "code",
        "outputId": "51949d9e-2ce2-4472-a7ff-c0029335f3f7",
        "colab": {
          "base_uri": "https://localhost:8080/",
          "height": 204
        }
      },
      "source": [
        "df3D['target'] = labels\n",
        "df3D.head()"
      ],
      "execution_count": 0,
      "outputs": [
        {
          "output_type": "execute_result",
          "data": {
            "text/html": [
              "<div>\n",
              "<style scoped>\n",
              "    .dataframe tbody tr th:only-of-type {\n",
              "        vertical-align: middle;\n",
              "    }\n",
              "\n",
              "    .dataframe tbody tr th {\n",
              "        vertical-align: top;\n",
              "    }\n",
              "\n",
              "    .dataframe thead th {\n",
              "        text-align: right;\n",
              "    }\n",
              "</style>\n",
              "<table border=\"1\" class=\"dataframe\">\n",
              "  <thead>\n",
              "    <tr style=\"text-align: right;\">\n",
              "      <th></th>\n",
              "      <th>PC1</th>\n",
              "      <th>PC2</th>\n",
              "      <th>PC3</th>\n",
              "      <th>PC4</th>\n",
              "      <th>PC5</th>\n",
              "      <th>PC6</th>\n",
              "      <th>PC7</th>\n",
              "      <th>PC8</th>\n",
              "      <th>PC9</th>\n",
              "      <th>PC10</th>\n",
              "      <th>target</th>\n",
              "    </tr>\n",
              "  </thead>\n",
              "  <tbody>\n",
              "    <tr>\n",
              "      <th>0</th>\n",
              "      <td>7.777007</td>\n",
              "      <td>21.995261</td>\n",
              "      <td>-0.272621</td>\n",
              "      <td>0.519813</td>\n",
              "      <td>1.145687</td>\n",
              "      <td>-1.420842</td>\n",
              "      <td>-0.129637</td>\n",
              "      <td>0.684907</td>\n",
              "      <td>0.235194</td>\n",
              "      <td>-0.006083</td>\n",
              "      <td>10</td>\n",
              "    </tr>\n",
              "    <tr>\n",
              "      <th>1</th>\n",
              "      <td>-1.234487</td>\n",
              "      <td>-0.346915</td>\n",
              "      <td>19.528305</td>\n",
              "      <td>9.377446</td>\n",
              "      <td>1.536872</td>\n",
              "      <td>-1.110018</td>\n",
              "      <td>-0.197151</td>\n",
              "      <td>1.890109</td>\n",
              "      <td>0.268656</td>\n",
              "      <td>0.338281</td>\n",
              "      <td>2</td>\n",
              "    </tr>\n",
              "    <tr>\n",
              "      <th>2</th>\n",
              "      <td>-0.738270</td>\n",
              "      <td>-0.194703</td>\n",
              "      <td>0.279827</td>\n",
              "      <td>-0.729550</td>\n",
              "      <td>-0.499630</td>\n",
              "      <td>0.320562</td>\n",
              "      <td>0.705253</td>\n",
              "      <td>-3.466875</td>\n",
              "      <td>-2.178202</td>\n",
              "      <td>1.043223</td>\n",
              "      <td>4</td>\n",
              "    </tr>\n",
              "    <tr>\n",
              "      <th>3</th>\n",
              "      <td>23.456552</td>\n",
              "      <td>-7.885279</td>\n",
              "      <td>0.324705</td>\n",
              "      <td>0.408682</td>\n",
              "      <td>0.741352</td>\n",
              "      <td>-0.227275</td>\n",
              "      <td>0.968725</td>\n",
              "      <td>-0.034549</td>\n",
              "      <td>-0.594726</td>\n",
              "      <td>-0.671843</td>\n",
              "      <td>6</td>\n",
              "    </tr>\n",
              "    <tr>\n",
              "      <th>4</th>\n",
              "      <td>-0.592197</td>\n",
              "      <td>-0.170031</td>\n",
              "      <td>-0.012117</td>\n",
              "      <td>-0.416923</td>\n",
              "      <td>1.116584</td>\n",
              "      <td>0.267602</td>\n",
              "      <td>-0.020162</td>\n",
              "      <td>-0.753224</td>\n",
              "      <td>-0.685902</td>\n",
              "      <td>-0.757754</td>\n",
              "      <td>4</td>\n",
              "    </tr>\n",
              "  </tbody>\n",
              "</table>\n",
              "</div>"
            ],
            "text/plain": [
              "         PC1        PC2        PC3  ...       PC9      PC10  target\n",
              "0   7.777007  21.995261  -0.272621  ...  0.235194 -0.006083      10\n",
              "1  -1.234487  -0.346915  19.528305  ...  0.268656  0.338281       2\n",
              "2  -0.738270  -0.194703   0.279827  ... -2.178202  1.043223       4\n",
              "3  23.456552  -7.885279   0.324705  ... -0.594726 -0.671843       6\n",
              "4  -0.592197  -0.170031  -0.012117  ... -0.685902 -0.757754       4\n",
              "\n",
              "[5 rows x 11 columns]"
            ]
          },
          "metadata": {
            "tags": []
          },
          "execution_count": 52
        }
      ]
    },
    {
      "cell_type": "code",
      "metadata": {
        "scrolled": true,
        "id": "5B5Hs97Ogjse",
        "colab_type": "code",
        "outputId": "ba22249b-ffc5-492d-fd71-02fd8a09c627",
        "colab": {
          "base_uri": "https://localhost:8080/",
          "height": 204
        }
      },
      "source": [
        "df2D = df3D.drop('PC3',axis=1)\n",
        "df2D.head()"
      ],
      "execution_count": 0,
      "outputs": [
        {
          "output_type": "execute_result",
          "data": {
            "text/html": [
              "<div>\n",
              "<style scoped>\n",
              "    .dataframe tbody tr th:only-of-type {\n",
              "        vertical-align: middle;\n",
              "    }\n",
              "\n",
              "    .dataframe tbody tr th {\n",
              "        vertical-align: top;\n",
              "    }\n",
              "\n",
              "    .dataframe thead th {\n",
              "        text-align: right;\n",
              "    }\n",
              "</style>\n",
              "<table border=\"1\" class=\"dataframe\">\n",
              "  <thead>\n",
              "    <tr style=\"text-align: right;\">\n",
              "      <th></th>\n",
              "      <th>PC1</th>\n",
              "      <th>PC2</th>\n",
              "      <th>PC4</th>\n",
              "      <th>PC5</th>\n",
              "      <th>PC6</th>\n",
              "      <th>PC7</th>\n",
              "      <th>PC8</th>\n",
              "      <th>PC9</th>\n",
              "      <th>PC10</th>\n",
              "      <th>target</th>\n",
              "    </tr>\n",
              "  </thead>\n",
              "  <tbody>\n",
              "    <tr>\n",
              "      <th>0</th>\n",
              "      <td>7.777007</td>\n",
              "      <td>21.995261</td>\n",
              "      <td>0.519813</td>\n",
              "      <td>1.145687</td>\n",
              "      <td>-1.420842</td>\n",
              "      <td>-0.129637</td>\n",
              "      <td>0.684907</td>\n",
              "      <td>0.235194</td>\n",
              "      <td>-0.006083</td>\n",
              "      <td>10</td>\n",
              "    </tr>\n",
              "    <tr>\n",
              "      <th>1</th>\n",
              "      <td>-1.234487</td>\n",
              "      <td>-0.346915</td>\n",
              "      <td>9.377446</td>\n",
              "      <td>1.536872</td>\n",
              "      <td>-1.110018</td>\n",
              "      <td>-0.197151</td>\n",
              "      <td>1.890109</td>\n",
              "      <td>0.268656</td>\n",
              "      <td>0.338281</td>\n",
              "      <td>2</td>\n",
              "    </tr>\n",
              "    <tr>\n",
              "      <th>2</th>\n",
              "      <td>-0.738270</td>\n",
              "      <td>-0.194703</td>\n",
              "      <td>-0.729550</td>\n",
              "      <td>-0.499630</td>\n",
              "      <td>0.320562</td>\n",
              "      <td>0.705253</td>\n",
              "      <td>-3.466875</td>\n",
              "      <td>-2.178202</td>\n",
              "      <td>1.043223</td>\n",
              "      <td>4</td>\n",
              "    </tr>\n",
              "    <tr>\n",
              "      <th>3</th>\n",
              "      <td>23.456552</td>\n",
              "      <td>-7.885279</td>\n",
              "      <td>0.408682</td>\n",
              "      <td>0.741352</td>\n",
              "      <td>-0.227275</td>\n",
              "      <td>0.968725</td>\n",
              "      <td>-0.034549</td>\n",
              "      <td>-0.594726</td>\n",
              "      <td>-0.671843</td>\n",
              "      <td>6</td>\n",
              "    </tr>\n",
              "    <tr>\n",
              "      <th>4</th>\n",
              "      <td>-0.592197</td>\n",
              "      <td>-0.170031</td>\n",
              "      <td>-0.416923</td>\n",
              "      <td>1.116584</td>\n",
              "      <td>0.267602</td>\n",
              "      <td>-0.020162</td>\n",
              "      <td>-0.753224</td>\n",
              "      <td>-0.685902</td>\n",
              "      <td>-0.757754</td>\n",
              "      <td>4</td>\n",
              "    </tr>\n",
              "  </tbody>\n",
              "</table>\n",
              "</div>"
            ],
            "text/plain": [
              "         PC1        PC2       PC4  ...       PC9      PC10  target\n",
              "0   7.777007  21.995261  0.519813  ...  0.235194 -0.006083      10\n",
              "1  -1.234487  -0.346915  9.377446  ...  0.268656  0.338281       2\n",
              "2  -0.738270  -0.194703 -0.729550  ... -2.178202  1.043223       4\n",
              "3  23.456552  -7.885279  0.408682  ... -0.594726 -0.671843       6\n",
              "4  -0.592197  -0.170031 -0.416923  ... -0.685902 -0.757754       4\n",
              "\n",
              "[5 rows x 10 columns]"
            ]
          },
          "metadata": {
            "tags": []
          },
          "execution_count": 53
        }
      ]
    },
    {
      "cell_type": "markdown",
      "metadata": {
        "id": "rVUvwUSugjse",
        "colab_type": "text"
      },
      "source": [
        "## Visualisation"
      ]
    },
    {
      "cell_type": "code",
      "metadata": {
        "scrolled": false,
        "id": "Tn6xYSaJgjse",
        "colab_type": "code",
        "outputId": "c0e74abf-9b00-49a5-e796-e999b0cfd45a",
        "colab": {
          "base_uri": "https://localhost:8080/",
          "height": 275
        }
      },
      "source": [
        "# Plot our scatter\n",
        "ax = df2D.plot(kind='scatter',x='PC1', y='PC2', s=10,c='target', cmap=plt.cm.get_cmap('rainbow', 6))\n",
        "ax.set_xlabel(\"PC1\")\n",
        "ax.set_ylabel(\"PC2\")"
      ],
      "execution_count": 0,
      "outputs": [
        {
          "output_type": "execute_result",
          "data": {
            "text/plain": [
              "Text(0, 0.5, 'PC2')"
            ]
          },
          "metadata": {
            "tags": []
          },
          "execution_count": 54
        },
        {
          "output_type": "display_data",
          "data": {
            "image/png": "[encoded data removed]",
            "text/plain": [
              "<Figure size 432x288 with 2 Axes>"
            ]
          },
          "metadata": {
            "tags": []
          }
        }
      ]
    },
    {
      "cell_type": "code",
      "metadata": {
        "scrolled": false,
        "id": "gmwVqilRgjsf",
        "colab_type": "code",
        "outputId": "d7612e1b-0823-4fdb-f97d-0a788babe399",
        "colab": {
          "base_uri": "https://localhost:8080/",
          "height": 275
        }
      },
      "source": [
        "# Plot our scatter\n",
        "ax = df3D.plot(kind='scatter',x='PC1', y='PC3', s=10,c='target', cmap=plt.cm.get_cmap('rainbow', 6))\n",
        "ax.set_xlabel(\"PC1\")\n",
        "ax.set_ylabel(\"PC3\")"
      ],
      "execution_count": 0,
      "outputs": [
        {
          "output_type": "execute_result",
          "data": {
            "text/plain": [
              "Text(0, 0.5, 'PC3')"
            ]
          },
          "metadata": {
            "tags": []
          },
          "execution_count": 55
        },
        {
          "output_type": "display_data",
          "data": {
            "image/png": "[encoded data removed]",
            "text/plain": [
              "<Figure size 432x288 with 2 Axes>"
            ]
          },
          "metadata": {
            "tags": []
          }
        }
      ]
    },
    {
      "cell_type": "code",
      "metadata": {
        "scrolled": false,
        "id": "XPHqfsdKgjsg",
        "colab_type": "code",
        "outputId": "011b8710-e2d1-4d29-b0a4-96c0a7bd0867",
        "colab": {
          "base_uri": "https://localhost:8080/",
          "height": 275
        }
      },
      "source": [
        "# Plot our scatter\n",
        "ax = df3D.plot(kind='scatter',x='PC2', y='PC3', s=10,c='target', cmap=plt.cm.get_cmap('rainbow', 6))\n",
        "ax.set_xlabel(\"PC2\")\n",
        "ax.set_ylabel(\"PC3\")"
      ],
      "execution_count": 0,
      "outputs": [
        {
          "output_type": "execute_result",
          "data": {
            "text/plain": [
              "Text(0, 0.5, 'PC3')"
            ]
          },
          "metadata": {
            "tags": []
          },
          "execution_count": 56
        },
        {
          "output_type": "display_data",
          "data": {
            "image/png": "[encoded data removed]",
            "text/plain": [
              "<Figure size 432x288 with 2 Axes>"
            ]
          },
          "metadata": {
            "tags": []
          }
        }
      ]
    },
    {
      "cell_type": "code",
      "metadata": {
        "scrolled": false,
        "id": "E4i_DfI2gjsg",
        "colab_type": "code",
        "outputId": "2b8c1859-1b0f-4f3f-8cb3-297a3734ede9",
        "colab": {
          "base_uri": "https://localhost:8080/",
          "height": 846
        }
      },
      "source": [
        "import matplotlib.pyplot as plt\n",
        "from mpl_toolkits.mplot3d import Axes3D\n",
        "\n",
        "def draw(ax, df):\n",
        "    #colormap = { 0: 'purple', 1: 'green', 2: 'red' }\n",
        "    #colors = df.apply(lambda row: colormap[row.target], axis=1)\n",
        "\n",
        "    ax.scatter(df['PC1'], df['PC2'], df['PC3'], c=labels, s=10, alpha=0.5,cmap=plt.cm.get_cmap('spectral', 10))\n",
        "    ax.set_xlabel('PC1')\n",
        "    ax.set_ylabel('PC2')\n",
        "    ax.set_zlabel('PC3')\n",
        "\n",
        "chart_count_vert = 5\n",
        "chart_count_horiz = 5\n",
        "number_of_graphs = chart_count_vert * chart_count_horiz\n",
        "\n",
        "fig = plt.figure(figsize=(3 * chart_count_horiz, 3 * chart_count_vert))\n",
        "\n",
        "for i in range(number_of_graphs):\n",
        "    ax = fig.add_subplot(chart_count_horiz, chart_count_vert, i + 1, projection='3d', azim=(-360 / number_of_graphs) * i)\n",
        "    draw(ax, df3D)"
      ],
      "execution_count": 0,
      "outputs": [
        {
          "output_type": "display_data",
          "data": {
            "image/png": "[encoded data removed]",
            "text/plain": [
              "<Figure size 1080x1080 with 25 Axes>"
            ]
          },
          "metadata": {
            "tags": []
          }
        }
      ]
    },
    {
      "cell_type": "markdown",
      "metadata": {
        "id": "V3U39_lsqepr",
        "colab_type": "text"
      },
      "source": [
        "## Clustering with Hierarchical"
      ]
    },
    {
      "cell_type": "code",
      "metadata": {
        "id": "UijmQ7vwrG1E",
        "colab_type": "code",
        "outputId": "19173cd3-5a69-412d-972a-715d9658bfd3",
        "colab": {
          "base_uri": "https://localhost:8080/",
          "height": 1000
        }
      },
      "source": [
        "labels = range(0, 59)  \n",
        "plt.figure(figsize=(20, 20))  \n",
        "plt.subplots_adjust(bottom=0.1)  \n",
        "plt.scatter(X_pca[:,0],X_pca[:,1], label='True Position')\n",
        "\n",
        "for label, xi, yi in zip(labels, X_pca[:, 0], X_pca[:, 1]):  \n",
        "    plt.annotate(\n",
        "        label,\n",
        "        xy=(xi, yi), xytext=(-3, 3),\n",
        "        textcoords='offset points', ha='right', va='bottom')\n",
        "plt.show()  "
      ],
      "execution_count": 0,
      "outputs": [
        {
          "output_type": "display_data",
          "data": {
            "image/png": "[encoded data removed]",
            "text/plain": [
              "<Figure size 1440x1440 with 1 Axes>"
            ]
          },
          "metadata": {
            "tags": []
          }
        }
      ]
    },
    {
      "cell_type": "code",
      "metadata": {
        "id": "73vurT8hs4HO",
        "colab_type": "code",
        "outputId": "b41ad86a-411c-4a9b-e20c-f37b551b096d",
        "colab": {
          "base_uri": "https://localhost:8080/",
          "height": 1000
        }
      },
      "source": [
        "from scipy.cluster.hierarchy import dendrogram, linkage  \n",
        "from matplotlib import pyplot as plt\n",
        "plt.style.use('classic')\n",
        "\n",
        "linked = linkage(X_pca, 'single')\n",
        "\n",
        "labelList = range(0, 60)\n",
        "\n",
        "plt.figure(figsize=(15, 15))  \n",
        "dendrogram(linked,  \n",
        "            orientation='top',\n",
        "            labels=labelList,\n",
        "            distance_sort='descending',\n",
        "            show_leaf_counts=True)\n",
        "plt.show()"
      ],
      "execution_count": 0,
      "outputs": [
        {
          "output_type": "display_data",
          "data": {
            "image/png": "[encoded data removed]",
            "text/plain": [
              "<Figure size 1200x1200 with 1 Axes>"
            ]
          },
          "metadata": {
            "tags": []
          }
        }
      ]
    },
    {
      "cell_type": "markdown",
      "metadata": {
        "id": "cJyIzHGvs195",
        "colab_type": "text"
      },
      "source": [
        "Numbers: 1, 2, 4, 13 (0,1,3,12)\n",
        "Are the most isolated"
      ]
    },
    {
      "cell_type": "code",
      "metadata": {
        "id": "UzwBTXPPxY3D",
        "colab_type": "code",
        "outputId": "f00d6d47-b6ce-4d4f-8bd6-0ae8149552db",
        "colab": {
          "base_uri": "https://localhost:8080/",
          "height": 34
        }
      },
      "source": [
        "documents[3]"
      ],
      "execution_count": 0,
      "outputs": [
        {
          "output_type": "execute_result",
          "data": {
            "text/plain": [
              "'Life is short, live it. Love is rare, grab it. Anger is bad, dump it. Fear is awful, face it. Memories are sweet, cherish them.'"
            ]
          },
          "metadata": {
            "tags": []
          },
          "execution_count": 60
        }
      ]
    },
    {
      "cell_type": "code",
      "metadata": {
        "id": "twezzcS6x7V4",
        "colab_type": "code",
        "outputId": "cf0e1361-b898-40be-b9ce-1d6a8f93daab",
        "colab": {
          "base_uri": "https://localhost:8080/",
          "height": 119
        }
      },
      "source": [
        "df.iloc[3].nlargest(5,keep='all')"
      ],
      "execution_count": 0,
      "outputs": [
        {
          "output_type": "execute_result",
          "data": {
            "text/plain": [
              "3     1.000000\n",
              "55    0.151289\n",
              "53    0.131362\n",
              "13    0.104647\n",
              "22    0.095454\n",
              "Name: 3, dtype: float64"
            ]
          },
          "metadata": {
            "tags": []
          },
          "execution_count": 61
        }
      ]
    },
    {
      "cell_type": "code",
      "metadata": {
        "id": "G1_Zt2Ufxypk",
        "colab_type": "code",
        "outputId": "8a6df28a-ce85-4d21-aa40-5d93e16d0407",
        "colab": {
          "base_uri": "https://localhost:8080/",
          "height": 34
        }
      },
      "source": [
        "documents[55]"
      ],
      "execution_count": 0,
      "outputs": [
        {
          "output_type": "execute_result",
          "data": {
            "text/plain": [
              "'My mission: be so busy loving my life that I have no time for hate, regret, worrying, fret, or fear.'"
            ]
          },
          "metadata": {
            "tags": []
          },
          "execution_count": 62
        }
      ]
    },
    {
      "cell_type": "code",
      "metadata": {
        "id": "UsWMngFYxcxR",
        "colab_type": "code",
        "outputId": "b1124d39-26a9-408b-e5dd-b82db226396a",
        "colab": {
          "base_uri": "https://localhost:8080/",
          "height": 34
        }
      },
      "source": [
        "documents[1]"
      ],
      "execution_count": 0,
      "outputs": [
        {
          "output_type": "execute_result",
          "data": {
            "text/plain": [
              "'Disappointments were not meant to destroy you. They were meant to strengthen you and give you fortitude to accomplish your God-given destiny.'"
            ]
          },
          "metadata": {
            "tags": []
          },
          "execution_count": 63
        }
      ]
    },
    {
      "cell_type": "code",
      "metadata": {
        "id": "NVblKdOZy9_h",
        "colab_type": "code",
        "outputId": "5d1db8ee-f778-4b81-9def-8874c5b35797",
        "colab": {
          "base_uri": "https://localhost:8080/",
          "height": 119
        }
      },
      "source": [
        "df.iloc[1].nlargest(5)"
      ],
      "execution_count": 0,
      "outputs": [
        {
          "output_type": "execute_result",
          "data": {
            "text/plain": [
              "1    1.0\n",
              "0    0.0\n",
              "2    0.0\n",
              "3    0.0\n",
              "4    0.0\n",
              "Name: 1, dtype: float64"
            ]
          },
          "metadata": {
            "tags": []
          },
          "execution_count": 64
        }
      ]
    },
    {
      "cell_type": "code",
      "metadata": {
        "id": "gBoOitWsxRP3",
        "colab_type": "code",
        "outputId": "6871397e-75e6-4448-c389-36eb1e859607",
        "colab": {
          "base_uri": "https://localhost:8080/",
          "height": 34
        }
      },
      "source": [
        "documents[0]"
      ],
      "execution_count": 0,
      "outputs": [
        {
          "output_type": "execute_result",
          "data": {
            "text/plain": [
              "'Remember the five simple rules to be happy: Free your heart from hatred. Free your mind from worries. Live simply. Give more. Expect less.'"
            ]
          },
          "metadata": {
            "tags": []
          },
          "execution_count": 65
        }
      ]
    },
    {
      "cell_type": "code",
      "metadata": {
        "id": "ODgFK1OU057i",
        "colab_type": "code",
        "outputId": "228db1a6-31b9-46f8-de18-c8ecf53e9f9c",
        "colab": {
          "base_uri": "https://localhost:8080/",
          "height": 119
        }
      },
      "source": [
        "df.iloc[0].nlargest(5)"
      ],
      "execution_count": 0,
      "outputs": [
        {
          "output_type": "execute_result",
          "data": {
            "text/plain": [
              "0     1.000000\n",
              "45    0.083281\n",
              "55    0.079345\n",
              "7     0.068131\n",
              "3     0.061087\n",
              "Name: 0, dtype: float64"
            ]
          },
          "metadata": {
            "tags": []
          },
          "execution_count": 66
        }
      ]
    },
    {
      "cell_type": "code",
      "metadata": {
        "id": "9vO3XTOI3Y5A",
        "colab_type": "code",
        "outputId": "6783b32b-e98d-4390-f2dd-607f150ea20c",
        "colab": {
          "base_uri": "https://localhost:8080/",
          "height": 34
        }
      },
      "source": [
        "documents[45]"
      ],
      "execution_count": 0,
      "outputs": [
        {
          "output_type": "execute_result",
          "data": {
            "text/plain": [
              "'Success is not the key to happiness. Happiness is the key to success. If you love what you are doing, you will be successful.'"
            ]
          },
          "metadata": {
            "tags": []
          },
          "execution_count": 67
        }
      ]
    }
  ]
}